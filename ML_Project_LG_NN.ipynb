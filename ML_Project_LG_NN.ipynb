{
  "cells": [
    {
      "cell_type": "code",
      "execution_count": 7,
      "metadata": {
        "ExecuteTime": {
          "start_time": "2022-05-02T02:16:34.221Z"
        },
        "id": "E8stNNcbcURZ"
      },
      "outputs": [],
      "source": [
        "from sklearn.preprocessing import StandardScaler\n",
        "from sklearn.model_selection import train_test_split, cross_val_score, KFold, StratifiedKFold\n",
        "from sklearn.metrics import accuracy_score, classification_report, confusion_matrix\n",
        "from sklearn import svm\n",
        "import numpy as np\n",
        "import numpy.random as r \n",
        "import matplotlib.pyplot as plt \n",
        "import os\n",
        "import pandas as pd\n",
        "\n",
        "import tensorflow as tf\n",
        "from tensorflow.keras.models import Sequential\n",
        "from tensorflow.keras.layers import Dense"
      ]
    },
    {
      "cell_type": "markdown",
      "metadata": {
        "id": "Gf7BgDTdc0Lf"
      },
      "source": [
        "Part 1: Data preprocessing\n"
      ]
    },
    {
      "cell_type": "code",
      "execution_count": 8,
      "metadata": {
        "ExecuteTime": {
          "start_time": "2022-05-02T02:16:03.463Z"
        },
        "id": "B6lOqAIOwleQ"
      },
      "outputs": [],
      "source": [
        "data = pd.read_csv(\"healthcare-dataset-stroke-data.csv\") "
      ]
    },
    {
      "cell_type": "code",
      "execution_count": 9,
      "metadata": {
        "ExecuteTime": {
          "start_time": "2022-05-02T02:16:03.465Z"
        },
        "colab": {
          "base_uri": "https://localhost:8080/"
        },
        "id": "XcMxfgmqczrT",
        "outputId": "bf6209a1-00a9-40d7-dc26-aecb4efc43e7"
      },
      "outputs": [
        {
          "output_type": "execute_result",
          "data": {
            "text/plain": [
              "0"
            ]
          },
          "metadata": {},
          "execution_count": 9
        }
      ],
      "source": [
        "data = data.drop(\"id\", axis = 1) #remove useless features\n",
        "data = data[data.gender != \"Other\"]\n",
        "data.reset_index(drop=True, inplace=True)\n",
        "data.head(15)\n",
        "data[\"stroke\"][788]"
      ]
    },
    {
      "cell_type": "markdown",
      "metadata": {
        "id": "7y-uSwy4lkog"
      },
      "source": [
        "Filling null values"
      ]
    },
    {
      "cell_type": "code",
      "execution_count": 10,
      "metadata": {
        "ExecuteTime": {
          "start_time": "2022-05-02T02:16:03.466Z"
        },
        "colab": {
          "base_uri": "https://localhost:8080/"
        },
        "id": "J8IgakKLwleS",
        "outputId": "f245e865-246a-4b43-c7f4-a06729b3b760"
      },
      "outputs": [
        {
          "output_type": "execute_result",
          "data": {
            "text/plain": [
              "False"
            ]
          },
          "metadata": {},
          "execution_count": 10
        }
      ],
      "source": [
        "data[\"bmi\"][3116]\n",
        "data[\"stroke\"].isnull().any()"
      ]
    },
    {
      "cell_type": "code",
      "execution_count": 11,
      "metadata": {
        "ExecuteTime": {
          "start_time": "2022-05-02T02:16:03.468Z"
        },
        "colab": {
          "base_uri": "https://localhost:8080/",
          "height": 228
        },
        "id": "2EDqIwxLlj7t",
        "outputId": "b24e3c7a-454e-4a7e-d0dc-7a5b967ea8b8"
      },
      "outputs": [
        {
          "output_type": "stream",
          "name": "stderr",
          "text": [
            "/usr/local/lib/python3.7/dist-packages/ipykernel_launcher.py:8: SettingWithCopyWarning: \n",
            "A value is trying to be set on a copy of a slice from a DataFrame\n",
            "\n",
            "See the caveats in the documentation: https://pandas.pydata.org/pandas-docs/stable/user_guide/indexing.html#returning-a-view-versus-a-copy\n",
            "  \n",
            "/usr/local/lib/python3.7/dist-packages/ipykernel_launcher.py:10: SettingWithCopyWarning: \n",
            "A value is trying to be set on a copy of a slice from a DataFrame\n",
            "\n",
            "See the caveats in the documentation: https://pandas.pydata.org/pandas-docs/stable/user_guide/indexing.html#returning-a-view-versus-a-copy\n",
            "  # Remove the CWD from sys.path while we load stuff.\n"
          ]
        },
        {
          "output_type": "execute_result",
          "data": {
            "text/plain": [
              "Empty DataFrame\n",
              "Columns: [gender, age, hypertension, heart_disease, ever_married, work_type, Residence_type, avg_glucose_level, bmi, smoking_status, stroke]\n",
              "Index: []"
            ],
            "text/html": [
              "\n",
              "  <div id=\"df-90140590-8275-4368-a140-a9d8a58402cb\">\n",
              "    <div class=\"colab-df-container\">\n",
              "      <div>\n",
              "<style scoped>\n",
              "    .dataframe tbody tr th:only-of-type {\n",
              "        vertical-align: middle;\n",
              "    }\n",
              "\n",
              "    .dataframe tbody tr th {\n",
              "        vertical-align: top;\n",
              "    }\n",
              "\n",
              "    .dataframe thead th {\n",
              "        text-align: right;\n",
              "    }\n",
              "</style>\n",
              "<table border=\"1\" class=\"dataframe\">\n",
              "  <thead>\n",
              "    <tr style=\"text-align: right;\">\n",
              "      <th></th>\n",
              "      <th>gender</th>\n",
              "      <th>age</th>\n",
              "      <th>hypertension</th>\n",
              "      <th>heart_disease</th>\n",
              "      <th>ever_married</th>\n",
              "      <th>work_type</th>\n",
              "      <th>Residence_type</th>\n",
              "      <th>avg_glucose_level</th>\n",
              "      <th>bmi</th>\n",
              "      <th>smoking_status</th>\n",
              "      <th>stroke</th>\n",
              "    </tr>\n",
              "  </thead>\n",
              "  <tbody>\n",
              "  </tbody>\n",
              "</table>\n",
              "</div>\n",
              "      <button class=\"colab-df-convert\" onclick=\"convertToInteractive('df-90140590-8275-4368-a140-a9d8a58402cb')\"\n",
              "              title=\"Convert this dataframe to an interactive table.\"\n",
              "              style=\"display:none;\">\n",
              "        \n",
              "  <svg xmlns=\"http://www.w3.org/2000/svg\" height=\"24px\"viewBox=\"0 0 24 24\"\n",
              "       width=\"24px\">\n",
              "    <path d=\"M0 0h24v24H0V0z\" fill=\"none\"/>\n",
              "    <path d=\"M18.56 5.44l.94 2.06.94-2.06 2.06-.94-2.06-.94-.94-2.06-.94 2.06-2.06.94zm-11 1L8.5 8.5l.94-2.06 2.06-.94-2.06-.94L8.5 2.5l-.94 2.06-2.06.94zm10 10l.94 2.06.94-2.06 2.06-.94-2.06-.94-.94-2.06-.94 2.06-2.06.94z\"/><path d=\"M17.41 7.96l-1.37-1.37c-.4-.4-.92-.59-1.43-.59-.52 0-1.04.2-1.43.59L10.3 9.45l-7.72 7.72c-.78.78-.78 2.05 0 2.83L4 21.41c.39.39.9.59 1.41.59.51 0 1.02-.2 1.41-.59l7.78-7.78 2.81-2.81c.8-.78.8-2.07 0-2.86zM5.41 20L4 18.59l7.72-7.72 1.47 1.35L5.41 20z\"/>\n",
              "  </svg>\n",
              "      </button>\n",
              "      \n",
              "  <style>\n",
              "    .colab-df-container {\n",
              "      display:flex;\n",
              "      flex-wrap:wrap;\n",
              "      gap: 12px;\n",
              "    }\n",
              "\n",
              "    .colab-df-convert {\n",
              "      background-color: #E8F0FE;\n",
              "      border: none;\n",
              "      border-radius: 50%;\n",
              "      cursor: pointer;\n",
              "      display: none;\n",
              "      fill: #1967D2;\n",
              "      height: 32px;\n",
              "      padding: 0 0 0 0;\n",
              "      width: 32px;\n",
              "    }\n",
              "\n",
              "    .colab-df-convert:hover {\n",
              "      background-color: #E2EBFA;\n",
              "      box-shadow: 0px 1px 2px rgba(60, 64, 67, 0.3), 0px 1px 3px 1px rgba(60, 64, 67, 0.15);\n",
              "      fill: #174EA6;\n",
              "    }\n",
              "\n",
              "    [theme=dark] .colab-df-convert {\n",
              "      background-color: #3B4455;\n",
              "      fill: #D2E3FC;\n",
              "    }\n",
              "\n",
              "    [theme=dark] .colab-df-convert:hover {\n",
              "      background-color: #434B5C;\n",
              "      box-shadow: 0px 1px 3px 1px rgba(0, 0, 0, 0.15);\n",
              "      filter: drop-shadow(0px 1px 2px rgba(0, 0, 0, 0.3));\n",
              "      fill: #FFFFFF;\n",
              "    }\n",
              "  </style>\n",
              "\n",
              "      <script>\n",
              "        const buttonEl =\n",
              "          document.querySelector('#df-90140590-8275-4368-a140-a9d8a58402cb button.colab-df-convert');\n",
              "        buttonEl.style.display =\n",
              "          google.colab.kernel.accessAllowed ? 'block' : 'none';\n",
              "\n",
              "        async function convertToInteractive(key) {\n",
              "          const element = document.querySelector('#df-90140590-8275-4368-a140-a9d8a58402cb');\n",
              "          const dataTable =\n",
              "            await google.colab.kernel.invokeFunction('convertToInteractive',\n",
              "                                                     [key], {});\n",
              "          if (!dataTable) return;\n",
              "\n",
              "          const docLinkHtml = 'Like what you see? Visit the ' +\n",
              "            '<a target=\"_blank\" href=https://colab.research.google.com/notebooks/data_table.ipynb>data table notebook</a>'\n",
              "            + ' to learn more about interactive tables.';\n",
              "          element.innerHTML = '';\n",
              "          dataTable['output_type'] = 'display_data';\n",
              "          await google.colab.output.renderOutput(dataTable, element);\n",
              "          const docLink = document.createElement('div');\n",
              "          docLink.innerHTML = docLinkHtml;\n",
              "          element.appendChild(docLink);\n",
              "        }\n",
              "      </script>\n",
              "    </div>\n",
              "  </div>\n",
              "  "
            ]
          },
          "metadata": {},
          "execution_count": 11
        }
      ],
      "source": [
        "bmi_data = data.groupby([\"gender\", \"hypertension\", \"heart_disease\", \"ever_married\", \"work_type\", \"Residence_type\", \"smoking_status\", \"stroke\"])[\"bmi\"].mean()\n",
        "\n",
        "avg_bmi = data[\"bmi\"].mean()\n",
        "\n",
        "#assign nan values to the average of samples with matching attributes\n",
        "for i in range(data[\"bmi\"].shape[0]):\n",
        "  if np.isnan(data[\"bmi\"][i]):\n",
        "    data[\"bmi\"][i] = round(bmi_data[data[\"gender\"][i], data[\"hypertension\"][i], data[\"heart_disease\"][i], data[\"ever_married\"][i], data[\"work_type\"][i], data[\"Residence_type\"][i], data[\"smoking_status\"][i], data[\"stroke\"][i]].item(),1)\n",
        "    if np.isnan(data[\"bmi\"][i]):\n",
        "        data[\"bmi\"][i] = round(avg_bmi,1)\n",
        "data[data.isnull().any(axis=1)]\n",
        "\n",
        "\n"
      ]
    },
    {
      "cell_type": "markdown",
      "metadata": {
        "id": "WilAf4wU18OM"
      },
      "source": [
        "### One Hot Encoding"
      ]
    },
    {
      "cell_type": "code",
      "execution_count": 12,
      "metadata": {
        "ExecuteTime": {
          "start_time": "2022-05-02T02:16:03.469Z"
        },
        "colab": {
          "base_uri": "https://localhost:8080/",
          "height": 505
        },
        "id": "yp5aoBhq1-De",
        "outputId": "a782f2f9-9c96-4104-94d1-fdde8f2a66c6"
      },
      "outputs": [
        {
          "output_type": "execute_result",
          "data": {
            "text/plain": [
              "      gender   age  hypertension  heart_disease  ever_married  Residence_type  \\\n",
              "0          0  67.0             0              1             1               0   \n",
              "1          1  61.0             0              0             1               1   \n",
              "2          0  80.0             0              1             1               1   \n",
              "3          1  49.0             0              0             1               0   \n",
              "4          1  79.0             1              0             1               1   \n",
              "...      ...   ...           ...            ...           ...             ...   \n",
              "5104       1  80.0             1              0             1               0   \n",
              "5105       1  81.0             0              0             1               0   \n",
              "5106       1  35.0             0              0             1               1   \n",
              "5107       0  51.0             0              0             1               1   \n",
              "5108       1  44.0             0              0             1               0   \n",
              "\n",
              "      avg_glucose_level   bmi  stroke  Unknown  formerly smoked  never smoked  \\\n",
              "0                228.69  36.6       1        0                1             0   \n",
              "1                202.21  26.3       1        0                0             1   \n",
              "2                105.92  32.5       1        0                0             1   \n",
              "3                171.23  34.4       1        0                0             0   \n",
              "4                174.12  24.0       1        0                0             1   \n",
              "...                 ...   ...     ...      ...              ...           ...   \n",
              "5104              83.75  33.2       0        0                0             1   \n",
              "5105             125.20  40.0       0        0                0             1   \n",
              "5106              82.99  30.6       0        0                0             1   \n",
              "5107             166.29  25.6       0        0                1             0   \n",
              "5108              85.28  26.2       0        1                0             0   \n",
              "\n",
              "      smokes  Govt_job  Never_worked  Private  Self-employed  children  \n",
              "0          0         0             0        1              0         0  \n",
              "1          0         0             0        0              1         0  \n",
              "2          0         0             0        1              0         0  \n",
              "3          1         0             0        1              0         0  \n",
              "4          0         0             0        0              1         0  \n",
              "...      ...       ...           ...      ...            ...       ...  \n",
              "5104       0         0             0        1              0         0  \n",
              "5105       0         0             0        0              1         0  \n",
              "5106       0         0             0        0              1         0  \n",
              "5107       0         0             0        1              0         0  \n",
              "5108       0         1             0        0              0         0  \n",
              "\n",
              "[5109 rows x 18 columns]"
            ],
            "text/html": [
              "\n",
              "  <div id=\"df-9b0783f3-7015-40e1-8c9e-c75579ccfe85\">\n",
              "    <div class=\"colab-df-container\">\n",
              "      <div>\n",
              "<style scoped>\n",
              "    .dataframe tbody tr th:only-of-type {\n",
              "        vertical-align: middle;\n",
              "    }\n",
              "\n",
              "    .dataframe tbody tr th {\n",
              "        vertical-align: top;\n",
              "    }\n",
              "\n",
              "    .dataframe thead th {\n",
              "        text-align: right;\n",
              "    }\n",
              "</style>\n",
              "<table border=\"1\" class=\"dataframe\">\n",
              "  <thead>\n",
              "    <tr style=\"text-align: right;\">\n",
              "      <th></th>\n",
              "      <th>gender</th>\n",
              "      <th>age</th>\n",
              "      <th>hypertension</th>\n",
              "      <th>heart_disease</th>\n",
              "      <th>ever_married</th>\n",
              "      <th>Residence_type</th>\n",
              "      <th>avg_glucose_level</th>\n",
              "      <th>bmi</th>\n",
              "      <th>stroke</th>\n",
              "      <th>Unknown</th>\n",
              "      <th>formerly smoked</th>\n",
              "      <th>never smoked</th>\n",
              "      <th>smokes</th>\n",
              "      <th>Govt_job</th>\n",
              "      <th>Never_worked</th>\n",
              "      <th>Private</th>\n",
              "      <th>Self-employed</th>\n",
              "      <th>children</th>\n",
              "    </tr>\n",
              "  </thead>\n",
              "  <tbody>\n",
              "    <tr>\n",
              "      <th>0</th>\n",
              "      <td>0</td>\n",
              "      <td>67.0</td>\n",
              "      <td>0</td>\n",
              "      <td>1</td>\n",
              "      <td>1</td>\n",
              "      <td>0</td>\n",
              "      <td>228.69</td>\n",
              "      <td>36.6</td>\n",
              "      <td>1</td>\n",
              "      <td>0</td>\n",
              "      <td>1</td>\n",
              "      <td>0</td>\n",
              "      <td>0</td>\n",
              "      <td>0</td>\n",
              "      <td>0</td>\n",
              "      <td>1</td>\n",
              "      <td>0</td>\n",
              "      <td>0</td>\n",
              "    </tr>\n",
              "    <tr>\n",
              "      <th>1</th>\n",
              "      <td>1</td>\n",
              "      <td>61.0</td>\n",
              "      <td>0</td>\n",
              "      <td>0</td>\n",
              "      <td>1</td>\n",
              "      <td>1</td>\n",
              "      <td>202.21</td>\n",
              "      <td>26.3</td>\n",
              "      <td>1</td>\n",
              "      <td>0</td>\n",
              "      <td>0</td>\n",
              "      <td>1</td>\n",
              "      <td>0</td>\n",
              "      <td>0</td>\n",
              "      <td>0</td>\n",
              "      <td>0</td>\n",
              "      <td>1</td>\n",
              "      <td>0</td>\n",
              "    </tr>\n",
              "    <tr>\n",
              "      <th>2</th>\n",
              "      <td>0</td>\n",
              "      <td>80.0</td>\n",
              "      <td>0</td>\n",
              "      <td>1</td>\n",
              "      <td>1</td>\n",
              "      <td>1</td>\n",
              "      <td>105.92</td>\n",
              "      <td>32.5</td>\n",
              "      <td>1</td>\n",
              "      <td>0</td>\n",
              "      <td>0</td>\n",
              "      <td>1</td>\n",
              "      <td>0</td>\n",
              "      <td>0</td>\n",
              "      <td>0</td>\n",
              "      <td>1</td>\n",
              "      <td>0</td>\n",
              "      <td>0</td>\n",
              "    </tr>\n",
              "    <tr>\n",
              "      <th>3</th>\n",
              "      <td>1</td>\n",
              "      <td>49.0</td>\n",
              "      <td>0</td>\n",
              "      <td>0</td>\n",
              "      <td>1</td>\n",
              "      <td>0</td>\n",
              "      <td>171.23</td>\n",
              "      <td>34.4</td>\n",
              "      <td>1</td>\n",
              "      <td>0</td>\n",
              "      <td>0</td>\n",
              "      <td>0</td>\n",
              "      <td>1</td>\n",
              "      <td>0</td>\n",
              "      <td>0</td>\n",
              "      <td>1</td>\n",
              "      <td>0</td>\n",
              "      <td>0</td>\n",
              "    </tr>\n",
              "    <tr>\n",
              "      <th>4</th>\n",
              "      <td>1</td>\n",
              "      <td>79.0</td>\n",
              "      <td>1</td>\n",
              "      <td>0</td>\n",
              "      <td>1</td>\n",
              "      <td>1</td>\n",
              "      <td>174.12</td>\n",
              "      <td>24.0</td>\n",
              "      <td>1</td>\n",
              "      <td>0</td>\n",
              "      <td>0</td>\n",
              "      <td>1</td>\n",
              "      <td>0</td>\n",
              "      <td>0</td>\n",
              "      <td>0</td>\n",
              "      <td>0</td>\n",
              "      <td>1</td>\n",
              "      <td>0</td>\n",
              "    </tr>\n",
              "    <tr>\n",
              "      <th>...</th>\n",
              "      <td>...</td>\n",
              "      <td>...</td>\n",
              "      <td>...</td>\n",
              "      <td>...</td>\n",
              "      <td>...</td>\n",
              "      <td>...</td>\n",
              "      <td>...</td>\n",
              "      <td>...</td>\n",
              "      <td>...</td>\n",
              "      <td>...</td>\n",
              "      <td>...</td>\n",
              "      <td>...</td>\n",
              "      <td>...</td>\n",
              "      <td>...</td>\n",
              "      <td>...</td>\n",
              "      <td>...</td>\n",
              "      <td>...</td>\n",
              "      <td>...</td>\n",
              "    </tr>\n",
              "    <tr>\n",
              "      <th>5104</th>\n",
              "      <td>1</td>\n",
              "      <td>80.0</td>\n",
              "      <td>1</td>\n",
              "      <td>0</td>\n",
              "      <td>1</td>\n",
              "      <td>0</td>\n",
              "      <td>83.75</td>\n",
              "      <td>33.2</td>\n",
              "      <td>0</td>\n",
              "      <td>0</td>\n",
              "      <td>0</td>\n",
              "      <td>1</td>\n",
              "      <td>0</td>\n",
              "      <td>0</td>\n",
              "      <td>0</td>\n",
              "      <td>1</td>\n",
              "      <td>0</td>\n",
              "      <td>0</td>\n",
              "    </tr>\n",
              "    <tr>\n",
              "      <th>5105</th>\n",
              "      <td>1</td>\n",
              "      <td>81.0</td>\n",
              "      <td>0</td>\n",
              "      <td>0</td>\n",
              "      <td>1</td>\n",
              "      <td>0</td>\n",
              "      <td>125.20</td>\n",
              "      <td>40.0</td>\n",
              "      <td>0</td>\n",
              "      <td>0</td>\n",
              "      <td>0</td>\n",
              "      <td>1</td>\n",
              "      <td>0</td>\n",
              "      <td>0</td>\n",
              "      <td>0</td>\n",
              "      <td>0</td>\n",
              "      <td>1</td>\n",
              "      <td>0</td>\n",
              "    </tr>\n",
              "    <tr>\n",
              "      <th>5106</th>\n",
              "      <td>1</td>\n",
              "      <td>35.0</td>\n",
              "      <td>0</td>\n",
              "      <td>0</td>\n",
              "      <td>1</td>\n",
              "      <td>1</td>\n",
              "      <td>82.99</td>\n",
              "      <td>30.6</td>\n",
              "      <td>0</td>\n",
              "      <td>0</td>\n",
              "      <td>0</td>\n",
              "      <td>1</td>\n",
              "      <td>0</td>\n",
              "      <td>0</td>\n",
              "      <td>0</td>\n",
              "      <td>0</td>\n",
              "      <td>1</td>\n",
              "      <td>0</td>\n",
              "    </tr>\n",
              "    <tr>\n",
              "      <th>5107</th>\n",
              "      <td>0</td>\n",
              "      <td>51.0</td>\n",
              "      <td>0</td>\n",
              "      <td>0</td>\n",
              "      <td>1</td>\n",
              "      <td>1</td>\n",
              "      <td>166.29</td>\n",
              "      <td>25.6</td>\n",
              "      <td>0</td>\n",
              "      <td>0</td>\n",
              "      <td>1</td>\n",
              "      <td>0</td>\n",
              "      <td>0</td>\n",
              "      <td>0</td>\n",
              "      <td>0</td>\n",
              "      <td>1</td>\n",
              "      <td>0</td>\n",
              "      <td>0</td>\n",
              "    </tr>\n",
              "    <tr>\n",
              "      <th>5108</th>\n",
              "      <td>1</td>\n",
              "      <td>44.0</td>\n",
              "      <td>0</td>\n",
              "      <td>0</td>\n",
              "      <td>1</td>\n",
              "      <td>0</td>\n",
              "      <td>85.28</td>\n",
              "      <td>26.2</td>\n",
              "      <td>0</td>\n",
              "      <td>1</td>\n",
              "      <td>0</td>\n",
              "      <td>0</td>\n",
              "      <td>0</td>\n",
              "      <td>1</td>\n",
              "      <td>0</td>\n",
              "      <td>0</td>\n",
              "      <td>0</td>\n",
              "      <td>0</td>\n",
              "    </tr>\n",
              "  </tbody>\n",
              "</table>\n",
              "<p>5109 rows × 18 columns</p>\n",
              "</div>\n",
              "      <button class=\"colab-df-convert\" onclick=\"convertToInteractive('df-9b0783f3-7015-40e1-8c9e-c75579ccfe85')\"\n",
              "              title=\"Convert this dataframe to an interactive table.\"\n",
              "              style=\"display:none;\">\n",
              "        \n",
              "  <svg xmlns=\"http://www.w3.org/2000/svg\" height=\"24px\"viewBox=\"0 0 24 24\"\n",
              "       width=\"24px\">\n",
              "    <path d=\"M0 0h24v24H0V0z\" fill=\"none\"/>\n",
              "    <path d=\"M18.56 5.44l.94 2.06.94-2.06 2.06-.94-2.06-.94-.94-2.06-.94 2.06-2.06.94zm-11 1L8.5 8.5l.94-2.06 2.06-.94-2.06-.94L8.5 2.5l-.94 2.06-2.06.94zm10 10l.94 2.06.94-2.06 2.06-.94-2.06-.94-.94-2.06-.94 2.06-2.06.94z\"/><path d=\"M17.41 7.96l-1.37-1.37c-.4-.4-.92-.59-1.43-.59-.52 0-1.04.2-1.43.59L10.3 9.45l-7.72 7.72c-.78.78-.78 2.05 0 2.83L4 21.41c.39.39.9.59 1.41.59.51 0 1.02-.2 1.41-.59l7.78-7.78 2.81-2.81c.8-.78.8-2.07 0-2.86zM5.41 20L4 18.59l7.72-7.72 1.47 1.35L5.41 20z\"/>\n",
              "  </svg>\n",
              "      </button>\n",
              "      \n",
              "  <style>\n",
              "    .colab-df-container {\n",
              "      display:flex;\n",
              "      flex-wrap:wrap;\n",
              "      gap: 12px;\n",
              "    }\n",
              "\n",
              "    .colab-df-convert {\n",
              "      background-color: #E8F0FE;\n",
              "      border: none;\n",
              "      border-radius: 50%;\n",
              "      cursor: pointer;\n",
              "      display: none;\n",
              "      fill: #1967D2;\n",
              "      height: 32px;\n",
              "      padding: 0 0 0 0;\n",
              "      width: 32px;\n",
              "    }\n",
              "\n",
              "    .colab-df-convert:hover {\n",
              "      background-color: #E2EBFA;\n",
              "      box-shadow: 0px 1px 2px rgba(60, 64, 67, 0.3), 0px 1px 3px 1px rgba(60, 64, 67, 0.15);\n",
              "      fill: #174EA6;\n",
              "    }\n",
              "\n",
              "    [theme=dark] .colab-df-convert {\n",
              "      background-color: #3B4455;\n",
              "      fill: #D2E3FC;\n",
              "    }\n",
              "\n",
              "    [theme=dark] .colab-df-convert:hover {\n",
              "      background-color: #434B5C;\n",
              "      box-shadow: 0px 1px 3px 1px rgba(0, 0, 0, 0.15);\n",
              "      filter: drop-shadow(0px 1px 2px rgba(0, 0, 0, 0.3));\n",
              "      fill: #FFFFFF;\n",
              "    }\n",
              "  </style>\n",
              "\n",
              "      <script>\n",
              "        const buttonEl =\n",
              "          document.querySelector('#df-9b0783f3-7015-40e1-8c9e-c75579ccfe85 button.colab-df-convert');\n",
              "        buttonEl.style.display =\n",
              "          google.colab.kernel.accessAllowed ? 'block' : 'none';\n",
              "\n",
              "        async function convertToInteractive(key) {\n",
              "          const element = document.querySelector('#df-9b0783f3-7015-40e1-8c9e-c75579ccfe85');\n",
              "          const dataTable =\n",
              "            await google.colab.kernel.invokeFunction('convertToInteractive',\n",
              "                                                     [key], {});\n",
              "          if (!dataTable) return;\n",
              "\n",
              "          const docLinkHtml = 'Like what you see? Visit the ' +\n",
              "            '<a target=\"_blank\" href=https://colab.research.google.com/notebooks/data_table.ipynb>data table notebook</a>'\n",
              "            + ' to learn more about interactive tables.';\n",
              "          element.innerHTML = '';\n",
              "          dataTable['output_type'] = 'display_data';\n",
              "          await google.colab.output.renderOutput(dataTable, element);\n",
              "          const docLink = document.createElement('div');\n",
              "          docLink.innerHTML = docLinkHtml;\n",
              "          element.appendChild(docLink);\n",
              "        }\n",
              "      </script>\n",
              "    </div>\n",
              "  </div>\n",
              "  "
            ]
          },
          "metadata": {},
          "execution_count": 12
        }
      ],
      "source": [
        "# One Hot encoding Here\n",
        "data_onehot = data.copy()\n",
        "categorization = {\n",
        "    \"gender\": {\"Male\": 0, \"Female\": 1},\n",
        "    \"ever_married\": {\"No\":0, \"Yes\": 1},\n",
        "    \"Residence_type\": {\"Urban\": 0, \"Rural\": 1}\n",
        "}\n",
        "data_onehot = data_onehot.replace(categorization)\n",
        "\n",
        "smoking_oh = pd.get_dummies(data_onehot['smoking_status'])\n",
        "worktype_oh = pd.get_dummies(data_onehot['work_type'])\n",
        "data_onehot = data_onehot.drop('smoking_status', axis=1)\n",
        "data_onehot = data_onehot.drop('work_type', axis=1)\n",
        "data_onehot = data_onehot.join(smoking_oh)\n",
        "data_onehot = data_onehot.join(worktype_oh)\n",
        "data_onehot"
      ]
    },
    {
      "cell_type": "code",
      "execution_count": 13,
      "metadata": {
        "ExecuteTime": {
          "start_time": "2022-05-02T02:16:03.470Z"
        },
        "colab": {
          "base_uri": "https://localhost:8080/"
        },
        "id": "4_CkZQp2wleU",
        "outputId": "0983d52a-4932-4187-836f-19b0f5b4b440"
      },
      "outputs": [
        {
          "output_type": "execute_result",
          "data": {
            "text/plain": [
              "8"
            ]
          },
          "metadata": {},
          "execution_count": 13
        }
      ],
      "source": [
        "# Index of what we want to predict.\n",
        "y_col_ix = data_onehot.columns.get_loc(\"stroke\")\n",
        "y_col_ix"
      ]
    },
    {
      "cell_type": "code",
      "execution_count": 14,
      "metadata": {
        "ExecuteTime": {
          "start_time": "2022-05-02T02:16:03.471Z"
        },
        "colab": {
          "base_uri": "https://localhost:8080/"
        },
        "id": "WL85y2NWwleV",
        "outputId": "23958ec4-5ed7-4acd-8b96-6f95e560542a"
      },
      "outputs": [
        {
          "output_type": "execute_result",
          "data": {
            "text/plain": [
              "array([[ 0., 67.,  0., ...,  1.,  0.,  0.],\n",
              "       [ 1., 61.,  0., ...,  0.,  1.,  0.],\n",
              "       [ 0., 80.,  0., ...,  1.,  0.,  0.],\n",
              "       ...,\n",
              "       [ 1., 35.,  0., ...,  0.,  1.,  0.],\n",
              "       [ 0., 51.,  0., ...,  1.,  0.,  0.],\n",
              "       [ 1., 44.,  0., ...,  0.,  0.,  0.]])"
            ]
          },
          "metadata": {},
          "execution_count": 14
        }
      ],
      "source": [
        "# Numpy version of the data\n",
        "data_oh_numpy = data_onehot.to_numpy()\n",
        "data_oh_numpy"
      ]
    },
    {
      "cell_type": "markdown",
      "metadata": {
        "id": "5OH5NO6YwleV"
      },
      "source": [
        "### Splitting the Data"
      ]
    },
    {
      "cell_type": "code",
      "execution_count": 15,
      "metadata": {
        "ExecuteTime": {
          "start_time": "2022-05-02T02:16:03.472Z"
        },
        "id": "5GjBFnAowleV"
      },
      "outputs": [],
      "source": [
        "X = np.hstack((data_oh_numpy[:, :y_col_ix], data_oh_numpy[:, y_col_ix+1:]))\n",
        "y = data_oh_numpy[:, y_col_ix]"
      ]
    },
    {
      "cell_type": "markdown",
      "metadata": {
        "id": "_-Lo3tqH2UeX"
      },
      "source": [
        "### Feature Transformation : Zero-Center + Normalize\n",
        "\n"
      ]
    },
    {
      "cell_type": "code",
      "execution_count": 16,
      "metadata": {
        "ExecuteTime": {
          "start_time": "2022-05-02T02:16:03.473Z"
        },
        "colab": {
          "base_uri": "https://localhost:8080/"
        },
        "id": "K6K5H7D8wleV",
        "outputId": "e6c065fd-1687-4e96-aa43-b255752a3d96"
      },
      "outputs": [
        {
          "output_type": "execute_result",
          "data": {
            "text/plain": [
              "array([[-1.18979109,  1.05124201, -0.32863749, ...,  0.86444434,\n",
              "        -0.43693145, -0.39415678],\n",
              "       [ 0.84048369,  0.78588869, -0.32863749, ..., -1.15681248,\n",
              "         2.28868854, -0.39415678],\n",
              "       [-1.18979109,  1.6261742 , -0.32863749, ...,  0.86444434,\n",
              "        -0.43693145, -0.39415678],\n",
              "       ...,\n",
              "       [ 0.84048369, -0.3639757 , -0.32863749, ..., -1.15681248,\n",
              "         2.28868854, -0.39415678],\n",
              "       [-1.18979109,  0.34363316, -0.32863749, ...,  0.86444434,\n",
              "        -0.43693145, -0.39415678],\n",
              "       [ 0.84048369,  0.03405428, -0.32863749, ..., -1.15681248,\n",
              "        -0.43693145, -0.39415678]])"
            ]
          },
          "metadata": {},
          "execution_count": 16
        }
      ],
      "source": [
        "# Standard Scaling (Zero mean + unit variance)\n",
        "scaler = StandardScaler().fit(X)\n",
        "X_scaled = scaler.transform(X)\n",
        "X_scaled"
      ]
    },
    {
      "cell_type": "code",
      "execution_count": 35,
      "metadata": {
        "ExecuteTime": {
          "start_time": "2022-05-02T02:16:03.474Z"
        },
        "id": "yApMAYkQwleW"
      },
      "outputs": [],
      "source": [
        "# 60% Train, 20% Test, 20% Val\n",
        "X_train_80, X_test, y_train_80, y_test = train_test_split(X_scaled, y, test_size=0.2, random_state=1)\n",
        "X_train, X_val, y_train, y_val = train_test_split(X_train, y_train, test_size=0.25, random_state=1) # 0.25 x 0.8 = 0.2\n"
      ]
    },
    {
      "cell_type": "code",
      "source": [
        "print(X_scaled.shape, X_train.shape, X_val.shape, X_test.shape)"
      ],
      "metadata": {
        "colab": {
          "base_uri": "https://localhost:8080/"
        },
        "id": "QiIZCMGDOPg_",
        "outputId": "361d367a-bf93-4c36-985b-b8b387f2deec"
      },
      "execution_count": 18,
      "outputs": [
        {
          "output_type": "stream",
          "name": "stdout",
          "text": [
            "(5109, 17) (3065, 17) (1022, 17) (1022, 17)\n"
          ]
        }
      ]
    },
    {
      "cell_type": "markdown",
      "metadata": {
        "id": "sDdkg3eeu8uW"
      },
      "source": [
        "# Part 2: Models\n",
        "\n"
      ]
    },
    {
      "cell_type": "markdown",
      "metadata": {
        "id": "5uQq9ma82PvO"
      },
      "source": [
        "## Logistic Regression\n",
        "\n"
      ]
    },
    {
      "cell_type": "markdown",
      "metadata": {
        "id": "7sW3JuBmwleW"
      },
      "source": [
        "#### Cases to test:\n",
        "1. Regularization: None, Test different Ks for K-Fold Cross Validation. Obtain a K with best test result.\n",
        "2. No Reg, Fixed K, test polynomial feature transformations.\n",
        "3. Use the best K for K-fold CV, test L1, L2 and no regularization.\n",
        "Conclude best K value and best regularization method for the model."
      ]
    },
    {
      "cell_type": "markdown",
      "metadata": {
        "id": "qgKy21orwleW"
      },
      "source": [
        "##### Case 1"
      ]
    },
    {
      "cell_type": "code",
      "source": [
        "from sklearn.linear_model import LogisticRegressionCV, LogisticRegression\n",
        "from sklearn.preprocessing import PolynomialFeatures"
      ],
      "metadata": {
        "id": "xchVNdKlBlFw"
      },
      "execution_count": 70,
      "outputs": []
    },
    {
      "cell_type": "code",
      "execution_count": 14,
      "metadata": {
        "colab": {
          "base_uri": "https://localhost:8080/"
        },
        "id": "RHwQSijswleX",
        "outputId": "bac54808-74b2-4ae7-ab47-ebc2774d9827"
      },
      "outputs": [
        {
          "output_type": "execute_result",
          "data": {
            "text/plain": [
              "array([[-1.18979109,  1.22814422, -0.32863749, ..., -1.15681248,\n",
              "        -0.43693145, -0.39415678],\n",
              "       [-1.18979109, -0.18707348, -0.32863749, ..., -1.15681248,\n",
              "         2.28868854, -0.39415678],\n",
              "       [ 0.84048369,  1.36082088, -0.32863749, ..., -1.15681248,\n",
              "        -0.43693145, -0.39415678],\n",
              "       ...,\n",
              "       [-1.18979109, -0.31975014, -0.32863749, ..., -1.15681248,\n",
              "        -0.43693145, -0.39415678],\n",
              "       [-1.18979109,  0.47630982, -0.32863749, ...,  0.86444434,\n",
              "        -0.43693145, -0.39415678],\n",
              "       [-1.18979109,  0.38785871,  3.04286644, ...,  0.86444434,\n",
              "        -0.43693145, -0.39415678]])"
            ]
          },
          "metadata": {},
          "execution_count": 14
        }
      ],
      "source": [
        "X_train"
      ]
    },
    {
      "cell_type": "code",
      "source": [
        "cs = np.ones((1,)) * 100000\n",
        "cs"
      ],
      "metadata": {
        "colab": {
          "base_uri": "https://localhost:8080/"
        },
        "id": "_OWqtTxP5tzZ",
        "outputId": "34beceaf-0969-4861-d2cf-e20351c8fe9f"
      },
      "execution_count": 91,
      "outputs": [
        {
          "output_type": "execute_result",
          "data": {
            "text/plain": [
              "array([100000.])"
            ]
          },
          "metadata": {},
          "execution_count": 91
        }
      ]
    },
    {
      "cell_type": "code",
      "source": [
        "for deg in range(1,2):\n",
        "  polydeg = PolynomialFeatures(deg)\n",
        "  X_train_deg = polydeg.fit_transform(X_train)\n",
        "  X_val_deg = polydeg.fit_transform(X_val)\n",
        "  X_test_deg = polydeg.fit_transform(X_test)\n",
        "\n",
        "  clf = LogisticRegressionCV(cv=5, Cs=cs, random_state=0, max_iter=1000000, solver='saga').fit(X_train_deg, y_train)\n",
        "  t_score = clf.score(X_train_deg, y_train).round(6)\n",
        "  val_score = clf.score(X_val_deg, y_val).round(6)\n",
        "\n",
        "\n",
        "  test_score = clf.score(X_test_deg, y_test).round(6)\n",
        "\n",
        "  print(deg, t_score, val_score, test_score)\n",
        "  print(clf.scores_)\n",
        "  print(clf.C_)"
      ],
      "metadata": {
        "colab": {
          "base_uri": "https://localhost:8080/"
        },
        "id": "rLNQx8_uJdXR",
        "outputId": "4165c3a1-a3d8-4db7-bef9-23e531acf16c"
      },
      "execution_count": 120,
      "outputs": [
        {
          "output_type": "stream",
          "name": "stdout",
          "text": [
            "1 0.95106 0.962818 0.941292\n",
            "{1.0: array([[0.95106036],\n",
            "       [0.95106036],\n",
            "       [0.95106036],\n",
            "       [0.95269168],\n",
            "       [0.95106036]])}\n",
            "[100000.]\n"
          ]
        }
      ]
    },
    {
      "cell_type": "code",
      "source": [
        "poly1 = PolynomialFeatures(1)\n",
        "X_train_1 = polydeg.fit_transform(X_train)\n",
        "X_val_1 = polydeg.fit_transform(X_val)\n",
        "X_train_1.shape"
      ],
      "metadata": {
        "colab": {
          "base_uri": "https://localhost:8080/"
        },
        "id": "Q7k9xDebT0l-",
        "outputId": "0b82bf2f-69f5-4834-b9e1-a295dd978398"
      },
      "execution_count": 110,
      "outputs": [
        {
          "output_type": "execute_result",
          "data": {
            "text/plain": [
              "(3065, 18)"
            ]
          },
          "metadata": {},
          "execution_count": 110
        }
      ]
    },
    {
      "cell_type": "code",
      "source": [
        "best_t_scores = {\n",
        "    \"l1\": [],\n",
        "    \"l2\": []\n",
        "}\n",
        "\n",
        "best_val_scores = {\n",
        "    \"l1\": [],\n",
        "    \"l2\": []\n",
        "}\n",
        "\n",
        "for k in range(2, 11):\n",
        "  for reg in [\"l1\", \"l2\"]:\n",
        "    clf = LogisticRegressionCV(cv=k, random_state=0, penalty=reg, solver='saga', max_iter=1000000000).fit(X_train_1, y_train)\n",
        "    # Across all folds, get C value with maximum mean score\n",
        "    this_score = clf.scores_[1.0].mean(axis=0).max()\n",
        "    this_c = clf.Cs_[clf.scores_[1.0].mean(axis=0).argmax()]\n",
        "    print(f\"{reg}, {k} folds, best C: {this_c}, score: {this_score}\")"
      ],
      "metadata": {
        "colab": {
          "base_uri": "https://localhost:8080/"
        },
        "id": "7mAmvNBjLklX",
        "outputId": "91503432-1bf7-43cc-99e4-63028b85d2ea"
      },
      "execution_count": 118,
      "outputs": [
        {
          "output_type": "stream",
          "name": "stdout",
          "text": [
            "l1, 2 folds, best C: 0.0001, score: 0.9510603536811555\n",
            "l2, 2 folds, best C: 0.0001, score: 0.9510603536811555\n",
            "l1, 3 folds, best C: 0.0001, score: 0.9510603484682081\n",
            "l2, 3 folds, best C: 0.0001, score: 0.9510603484682081\n",
            "l1, 4 folds, best C: 0.0001, score: 0.9510605560302423\n",
            "l2, 4 folds, best C: 0.0001, score: 0.9510605560302423\n",
            "l1, 5 folds, best C: 0.3593813663804626, score: 0.9513866231647634\n",
            "l2, 5 folds, best C: 0.3593813663804626, score: 0.9513866231647634\n",
            "l1, 6 folds, best C: 0.3593813663804626, score: 0.9513864906693271\n",
            "l2, 6 folds, best C: 0.3593813663804626, score: 0.9513864906693271\n",
            "l1, 7 folds, best C: 2.782559402207126, score: 0.9513868053098798\n",
            "l2, 7 folds, best C: 0.3593813663804626, score: 0.9513868053098798\n",
            "l1, 8 folds, best C: 2.782559402207126, score: 0.9513869057332464\n",
            "l2, 8 folds, best C: 0.3593813663804626, score: 0.9513869057332464\n",
            "l1, 9 folds, best C: 2.782559402207126, score: 0.9513886493013628\n",
            "l2, 9 folds, best C: 2.782559402207126, score: 0.9513886493013628\n",
            "l1, 10 folds, best C: 0.0001, score: 0.9510602286517214\n",
            "l2, 10 folds, best C: 0.0001, score: 0.9510602286517214\n"
          ]
        }
      ]
    },
    {
      "cell_type": "code",
      "source": [
        "Ks = []\n",
        "t_scores = []\n",
        "val_scores = []\n",
        "for k in range(2, 11):\n",
        "  \n"
      ],
      "metadata": {
        "id": "l49SXCxyxwug"
      },
      "execution_count": 74,
      "outputs": []
    },
    {
      "cell_type": "markdown",
      "metadata": {
        "id": "H0IvL6mNwleY"
      },
      "source": [
        "## Neural Network\n",
        "\n"
      ]
    },
    {
      "cell_type": "code",
      "source": [
        "from keras.utils.vis_utils import plot_model"
      ],
      "metadata": {
        "id": "1VxwGcsp9Aqd"
      },
      "execution_count": 36,
      "outputs": []
    },
    {
      "cell_type": "markdown",
      "source": [
        "# Model 1"
      ],
      "metadata": {
        "id": "Up3aCTFH-9dc"
      }
    },
    {
      "cell_type": "code",
      "source": [
        "# Get Pic\n",
        "model1 = Sequential()\n",
        "model1.add(Dense(10, input_dim=17, activation='relu'))\n",
        "model1.add(Dense(1, activation='sigmoid'))\n",
        "model1.compile(loss='binary_crossentropy', optimizer='adam', metrics=['accuracy'])\n",
        "plot_model(model1, to_file='model_plot.png', show_shapes=True, show_layer_names=True)"
      ],
      "metadata": {
        "id": "w2wxaUID_GQL"
      },
      "execution_count": null,
      "outputs": []
    },
    {
      "cell_type": "code",
      "source": [
        "# No Reg\n",
        "model1 = Sequential()\n",
        "model1.add(Dense(10, input_dim=17, activation='relu'))\n",
        "model1.add(Dense(1, activation='sigmoid'))\n",
        "model1.compile(loss='binary_crossentropy', optimizer='adam', metrics=['accuracy'])\n",
        "model1.fit(X_train_80, y_train_80, epochs=70, batch_size=10, validation_split=0.2)"
      ],
      "metadata": {
        "id": "O1HN54gs_9iY"
      },
      "execution_count": null,
      "outputs": []
    },
    {
      "cell_type": "code",
      "execution_count": null,
      "metadata": {
        "id": "p_M816mbwleY"
      },
      "outputs": [],
      "source": [
        "# L1 Reg\n",
        "model1 = Sequential()\n",
        "model1.add(Dense(10, input_dim=17, activation='relu', kernel_regularizer='l1'))\n",
        "model1.add(Dense(1, activation='sigmoid', kernel_regularizer='l1'))\n",
        "model1.compile(loss='binary_crossentropy', optimizer='adam', metrics=['accuracy'])\n",
        "model1.fit(X_train_80, y_train_80, epochs=70, batch_size=10, validation_split=0.2)"
      ]
    },
    {
      "cell_type": "code",
      "source": [
        "# L2 Reg\n",
        "model1 = Sequential()\n",
        "model1.add(Dense(10, input_dim=17, activation='relu', kernel_regularizer='l2'))\n",
        "model1.add(Dense(1, activation='sigmoid', kernel_regularizer='l2'))\n",
        "model1.compile(loss='binary_crossentropy', optimizer='adam', metrics=['accuracy'])\n",
        "model1.fit(X_train_80, y_train_80, epochs=70, batch_size=10, validation_split=0.2)"
      ],
      "metadata": {
        "id": "tpDiAW3Q_AiH"
      },
      "execution_count": null,
      "outputs": []
    },
    {
      "cell_type": "markdown",
      "source": [
        " # Model 2"
      ],
      "metadata": {
        "id": "PF9rqH9L_aHb"
      }
    },
    {
      "cell_type": "code",
      "source": [
        "# Get Pic\n",
        "model2 = Sequential()\n",
        "model2.add(Dense(10, input_dim=17, activation='relu'))\n",
        "model2.add(Dense(5, activation='relu'))\n",
        "model2.add(Dense(1, activation='sigmoid'))\n",
        "model2.compile(loss='binary_crossentropy', optimizer='adam', metrics=['accuracy'])\n",
        "plot_model(model2, to_file='model_plot.png', show_shapes=True, show_layer_names=True)"
      ],
      "metadata": {
        "colab": {
          "base_uri": "https://localhost:8080/",
          "height": 422
        },
        "id": "TtmJqntMB00D",
        "outputId": "7f0a625e-8e59-4c68-823b-dbfc48d8ea5d"
      },
      "execution_count": 43,
      "outputs": [
        {
          "output_type": "execute_result",
          "data": {
            "text/plain": [
              "<IPython.core.display.Image object>"
            ],
            "image/png": "[encoded data removed]"
          },
          "metadata": {},
          "execution_count": 43
        }
      ]
    },
    {
      "cell_type": "code",
      "source": [
        "# No Reg\n",
        "model2 = Sequential()\n",
        "model2.add(Dense(10, input_dim=17, activation='relu'))\n",
        "model2.add(Dense(5, activation='relu'))\n",
        "model2.add(Dense(1, activation='sigmoid'))\n",
        "model2.compile(loss='binary_crossentropy', optimizer='adam', metrics=['accuracy'])\n",
        "model2.fit(X_train_80, y_train_80, epochs=70, batch_size=10, validation_split=0.2)"
      ],
      "metadata": {
        "colab": {
          "base_uri": "https://localhost:8080/"
        },
        "id": "R-14W1C0B00D",
        "outputId": "d9f4fe1e-7a77-4124-b1a0-4e6af057f756"
      },
      "execution_count": 44,
      "outputs": [
        {
          "output_type": "stream",
          "name": "stdout",
          "text": [
            "Epoch 1/70\n",
            "327/327 [==============================] - 2s 3ms/step - loss: 0.4083 - accuracy: 0.8880 - val_loss: 0.2254 - val_accuracy: 0.9499\n",
            "Epoch 2/70\n",
            "327/327 [==============================] - 1s 3ms/step - loss: 0.1856 - accuracy: 0.9544 - val_loss: 0.1838 - val_accuracy: 0.9499\n",
            "Epoch 3/70\n",
            "327/327 [==============================] - 1s 3ms/step - loss: 0.1649 - accuracy: 0.9544 - val_loss: 0.1768 - val_accuracy: 0.9499\n",
            "Epoch 4/70\n",
            "327/327 [==============================] - 1s 3ms/step - loss: 0.1585 - accuracy: 0.9544 - val_loss: 0.1745 - val_accuracy: 0.9499\n",
            "Epoch 5/70\n",
            "327/327 [==============================] - 1s 3ms/step - loss: 0.1552 - accuracy: 0.9547 - val_loss: 0.1724 - val_accuracy: 0.9499\n",
            "Epoch 6/70\n",
            "327/327 [==============================] - 1s 3ms/step - loss: 0.1525 - accuracy: 0.9547 - val_loss: 0.1708 - val_accuracy: 0.9499\n",
            "Epoch 7/70\n",
            "327/327 [==============================] - 1s 3ms/step - loss: 0.1503 - accuracy: 0.9547 - val_loss: 0.1708 - val_accuracy: 0.9499\n",
            "Epoch 8/70\n",
            "327/327 [==============================] - 1s 3ms/step - loss: 0.1496 - accuracy: 0.9547 - val_loss: 0.1687 - val_accuracy: 0.9499\n",
            "Epoch 9/70\n",
            "327/327 [==============================] - 1s 3ms/step - loss: 0.1486 - accuracy: 0.9547 - val_loss: 0.1687 - val_accuracy: 0.9499\n",
            "Epoch 10/70\n",
            "327/327 [==============================] - 1s 3ms/step - loss: 0.1476 - accuracy: 0.9547 - val_loss: 0.1696 - val_accuracy: 0.9499\n",
            "Epoch 11/70\n",
            "327/327 [==============================] - 1s 3ms/step - loss: 0.1463 - accuracy: 0.9550 - val_loss: 0.1700 - val_accuracy: 0.9499\n",
            "Epoch 12/70\n",
            "327/327 [==============================] - 1s 3ms/step - loss: 0.1461 - accuracy: 0.9550 - val_loss: 0.1689 - val_accuracy: 0.9499\n",
            "Epoch 13/70\n",
            "327/327 [==============================] - 1s 3ms/step - loss: 0.1448 - accuracy: 0.9550 - val_loss: 0.1701 - val_accuracy: 0.9499\n",
            "Epoch 14/70\n",
            "327/327 [==============================] - 1s 3ms/step - loss: 0.1445 - accuracy: 0.9550 - val_loss: 0.1695 - val_accuracy: 0.9499\n",
            "Epoch 15/70\n",
            "327/327 [==============================] - 1s 3ms/step - loss: 0.1433 - accuracy: 0.9553 - val_loss: 0.1701 - val_accuracy: 0.9499\n",
            "Epoch 16/70\n",
            "327/327 [==============================] - 1s 3ms/step - loss: 0.1431 - accuracy: 0.9550 - val_loss: 0.1704 - val_accuracy: 0.9499\n",
            "Epoch 17/70\n",
            "327/327 [==============================] - 1s 3ms/step - loss: 0.1425 - accuracy: 0.9553 - val_loss: 0.1701 - val_accuracy: 0.9499\n",
            "Epoch 18/70\n",
            "327/327 [==============================] - 1s 3ms/step - loss: 0.1422 - accuracy: 0.9553 - val_loss: 0.1705 - val_accuracy: 0.9499\n",
            "Epoch 19/70\n",
            "327/327 [==============================] - 1s 3ms/step - loss: 0.1419 - accuracy: 0.9553 - val_loss: 0.1711 - val_accuracy: 0.9499\n",
            "Epoch 20/70\n",
            "327/327 [==============================] - 1s 3ms/step - loss: 0.1415 - accuracy: 0.9556 - val_loss: 0.1717 - val_accuracy: 0.9499\n",
            "Epoch 21/70\n",
            "327/327 [==============================] - 1s 3ms/step - loss: 0.1413 - accuracy: 0.9556 - val_loss: 0.1720 - val_accuracy: 0.9499\n",
            "Epoch 22/70\n",
            "327/327 [==============================] - 1s 3ms/step - loss: 0.1411 - accuracy: 0.9559 - val_loss: 0.1727 - val_accuracy: 0.9499\n",
            "Epoch 23/70\n",
            "327/327 [==============================] - 1s 3ms/step - loss: 0.1409 - accuracy: 0.9556 - val_loss: 0.1718 - val_accuracy: 0.9499\n",
            "Epoch 24/70\n",
            "327/327 [==============================] - 1s 3ms/step - loss: 0.1407 - accuracy: 0.9559 - val_loss: 0.1726 - val_accuracy: 0.9499\n",
            "Epoch 25/70\n",
            "327/327 [==============================] - 1s 3ms/step - loss: 0.1406 - accuracy: 0.9559 - val_loss: 0.1731 - val_accuracy: 0.9499\n",
            "Epoch 26/70\n",
            "327/327 [==============================] - 1s 3ms/step - loss: 0.1402 - accuracy: 0.9556 - val_loss: 0.1735 - val_accuracy: 0.9499\n",
            "Epoch 27/70\n",
            "327/327 [==============================] - 1s 3ms/step - loss: 0.1401 - accuracy: 0.9559 - val_loss: 0.1741 - val_accuracy: 0.9499\n",
            "Epoch 28/70\n",
            "327/327 [==============================] - 1s 3ms/step - loss: 0.1397 - accuracy: 0.9559 - val_loss: 0.1749 - val_accuracy: 0.9499\n",
            "Epoch 29/70\n",
            "327/327 [==============================] - 1s 3ms/step - loss: 0.1392 - accuracy: 0.9556 - val_loss: 0.1759 - val_accuracy: 0.9499\n",
            "Epoch 30/70\n",
            "327/327 [==============================] - 1s 3ms/step - loss: 0.1393 - accuracy: 0.9559 - val_loss: 0.1761 - val_accuracy: 0.9499\n",
            "Epoch 31/70\n",
            "327/327 [==============================] - 1s 3ms/step - loss: 0.1394 - accuracy: 0.9559 - val_loss: 0.1760 - val_accuracy: 0.9499\n",
            "Epoch 32/70\n",
            "327/327 [==============================] - 1s 3ms/step - loss: 0.1391 - accuracy: 0.9556 - val_loss: 0.1752 - val_accuracy: 0.9499\n",
            "Epoch 33/70\n",
            "327/327 [==============================] - 1s 3ms/step - loss: 0.1388 - accuracy: 0.9563 - val_loss: 0.1762 - val_accuracy: 0.9499\n",
            "Epoch 34/70\n",
            "327/327 [==============================] - 1s 3ms/step - loss: 0.1383 - accuracy: 0.9559 - val_loss: 0.1776 - val_accuracy: 0.9499\n",
            "Epoch 35/70\n",
            "327/327 [==============================] - 1s 3ms/step - loss: 0.1384 - accuracy: 0.9559 - val_loss: 0.1770 - val_accuracy: 0.9499\n",
            "Epoch 36/70\n",
            "327/327 [==============================] - 1s 3ms/step - loss: 0.1374 - accuracy: 0.9559 - val_loss: 0.1755 - val_accuracy: 0.9499\n",
            "Epoch 37/70\n",
            "327/327 [==============================] - 1s 3ms/step - loss: 0.1379 - accuracy: 0.9559 - val_loss: 0.1764 - val_accuracy: 0.9499\n",
            "Epoch 38/70\n",
            "327/327 [==============================] - 1s 3ms/step - loss: 0.1375 - accuracy: 0.9556 - val_loss: 0.1767 - val_accuracy: 0.9499\n",
            "Epoch 39/70\n",
            "327/327 [==============================] - 1s 3ms/step - loss: 0.1374 - accuracy: 0.9563 - val_loss: 0.1774 - val_accuracy: 0.9499\n",
            "Epoch 40/70\n",
            "327/327 [==============================] - 1s 3ms/step - loss: 0.1371 - accuracy: 0.9559 - val_loss: 0.1786 - val_accuracy: 0.9499\n",
            "Epoch 41/70\n",
            "327/327 [==============================] - 1s 3ms/step - loss: 0.1368 - accuracy: 0.9556 - val_loss: 0.1769 - val_accuracy: 0.9499\n",
            "Epoch 42/70\n",
            "327/327 [==============================] - 1s 3ms/step - loss: 0.1368 - accuracy: 0.9559 - val_loss: 0.1786 - val_accuracy: 0.9499\n",
            "Epoch 43/70\n",
            "327/327 [==============================] - 1s 3ms/step - loss: 0.1365 - accuracy: 0.9559 - val_loss: 0.1785 - val_accuracy: 0.9499\n",
            "Epoch 44/70\n",
            "327/327 [==============================] - 1s 3ms/step - loss: 0.1362 - accuracy: 0.9563 - val_loss: 0.1798 - val_accuracy: 0.9499\n",
            "Epoch 45/70\n",
            "327/327 [==============================] - 1s 3ms/step - loss: 0.1366 - accuracy: 0.9556 - val_loss: 0.1794 - val_accuracy: 0.9499\n",
            "Epoch 46/70\n",
            "327/327 [==============================] - 1s 3ms/step - loss: 0.1356 - accuracy: 0.9578 - val_loss: 0.1805 - val_accuracy: 0.9499\n",
            "Epoch 47/70\n",
            "327/327 [==============================] - 1s 3ms/step - loss: 0.1359 - accuracy: 0.9563 - val_loss: 0.1804 - val_accuracy: 0.9499\n",
            "Epoch 48/70\n",
            "327/327 [==============================] - 1s 3ms/step - loss: 0.1356 - accuracy: 0.9559 - val_loss: 0.1807 - val_accuracy: 0.9499\n",
            "Epoch 49/70\n",
            "327/327 [==============================] - 1s 3ms/step - loss: 0.1356 - accuracy: 0.9563 - val_loss: 0.1821 - val_accuracy: 0.9499\n",
            "Epoch 50/70\n",
            "327/327 [==============================] - 1s 3ms/step - loss: 0.1347 - accuracy: 0.9563 - val_loss: 0.1794 - val_accuracy: 0.9487\n",
            "Epoch 51/70\n",
            "327/327 [==============================] - 1s 3ms/step - loss: 0.1351 - accuracy: 0.9581 - val_loss: 0.1811 - val_accuracy: 0.9487\n",
            "Epoch 52/70\n",
            "327/327 [==============================] - 1s 3ms/step - loss: 0.1350 - accuracy: 0.9566 - val_loss: 0.1813 - val_accuracy: 0.9499\n",
            "Epoch 53/70\n",
            "327/327 [==============================] - 1s 3ms/step - loss: 0.1352 - accuracy: 0.9566 - val_loss: 0.1821 - val_accuracy: 0.9499\n",
            "Epoch 54/70\n",
            "327/327 [==============================] - 1s 3ms/step - loss: 0.1342 - accuracy: 0.9563 - val_loss: 0.1808 - val_accuracy: 0.9474\n",
            "Epoch 55/70\n",
            "327/327 [==============================] - 1s 3ms/step - loss: 0.1340 - accuracy: 0.9572 - val_loss: 0.1807 - val_accuracy: 0.9474\n",
            "Epoch 56/70\n",
            "327/327 [==============================] - 1s 3ms/step - loss: 0.1344 - accuracy: 0.9575 - val_loss: 0.1830 - val_accuracy: 0.9487\n",
            "Epoch 57/70\n",
            "327/327 [==============================] - 1s 3ms/step - loss: 0.1340 - accuracy: 0.9578 - val_loss: 0.1818 - val_accuracy: 0.9487\n",
            "Epoch 58/70\n",
            "327/327 [==============================] - 1s 3ms/step - loss: 0.1338 - accuracy: 0.9575 - val_loss: 0.1810 - val_accuracy: 0.9474\n",
            "Epoch 59/70\n",
            "327/327 [==============================] - 1s 3ms/step - loss: 0.1334 - accuracy: 0.9578 - val_loss: 0.1826 - val_accuracy: 0.9474\n",
            "Epoch 60/70\n",
            "327/327 [==============================] - 1s 3ms/step - loss: 0.1334 - accuracy: 0.9587 - val_loss: 0.1812 - val_accuracy: 0.9462\n",
            "Epoch 61/70\n",
            "327/327 [==============================] - 1s 3ms/step - loss: 0.1331 - accuracy: 0.9575 - val_loss: 0.1824 - val_accuracy: 0.9462\n",
            "Epoch 62/70\n",
            "327/327 [==============================] - 1s 3ms/step - loss: 0.1327 - accuracy: 0.9581 - val_loss: 0.1845 - val_accuracy: 0.9487\n",
            "Epoch 63/70\n",
            "327/327 [==============================] - 1s 3ms/step - loss: 0.1331 - accuracy: 0.9572 - val_loss: 0.1831 - val_accuracy: 0.9474\n",
            "Epoch 64/70\n",
            "327/327 [==============================] - 1s 3ms/step - loss: 0.1329 - accuracy: 0.9572 - val_loss: 0.1826 - val_accuracy: 0.9462\n",
            "Epoch 65/70\n",
            "327/327 [==============================] - 1s 3ms/step - loss: 0.1323 - accuracy: 0.9587 - val_loss: 0.1843 - val_accuracy: 0.9462\n",
            "Epoch 66/70\n",
            "327/327 [==============================] - 1s 3ms/step - loss: 0.1318 - accuracy: 0.9587 - val_loss: 0.1863 - val_accuracy: 0.9487\n",
            "Epoch 67/70\n",
            "327/327 [==============================] - 1s 3ms/step - loss: 0.1318 - accuracy: 0.9581 - val_loss: 0.1857 - val_accuracy: 0.9474\n",
            "Epoch 68/70\n",
            "327/327 [==============================] - 1s 3ms/step - loss: 0.1317 - accuracy: 0.9578 - val_loss: 0.1864 - val_accuracy: 0.9462\n",
            "Epoch 69/70\n",
            "327/327 [==============================] - 1s 3ms/step - loss: 0.1313 - accuracy: 0.9575 - val_loss: 0.1887 - val_accuracy: 0.9487\n",
            "Epoch 70/70\n",
            "327/327 [==============================] - 1s 3ms/step - loss: 0.1311 - accuracy: 0.9575 - val_loss: 0.1867 - val_accuracy: 0.9462\n"
          ]
        },
        {
          "output_type": "execute_result",
          "data": {
            "text/plain": [
              "<keras.callbacks.History at 0x7fc2f5c34c50>"
            ]
          },
          "metadata": {},
          "execution_count": 44
        }
      ]
    },
    {
      "cell_type": "code",
      "execution_count": 45,
      "metadata": {
        "colab": {
          "base_uri": "https://localhost:8080/"
        },
        "id": "tm9f_5-ZB00D",
        "outputId": "1035d333-58cd-46f1-e689-9d4dd4db70b8"
      },
      "outputs": [
        {
          "output_type": "stream",
          "name": "stdout",
          "text": [
            "Epoch 1/70\n",
            "327/327 [==============================] - 2s 4ms/step - loss: 0.8074 - accuracy: 0.9217 - val_loss: 0.6332 - val_accuracy: 0.9499\n",
            "Epoch 2/70\n",
            "327/327 [==============================] - 1s 3ms/step - loss: 0.5095 - accuracy: 0.9547 - val_loss: 0.4482 - val_accuracy: 0.9499\n",
            "Epoch 3/70\n",
            "327/327 [==============================] - 1s 3ms/step - loss: 0.3766 - accuracy: 0.9547 - val_loss: 0.3524 - val_accuracy: 0.9499\n",
            "Epoch 4/70\n",
            "327/327 [==============================] - 1s 3ms/step - loss: 0.3086 - accuracy: 0.9547 - val_loss: 0.3024 - val_accuracy: 0.9499\n",
            "Epoch 5/70\n",
            "327/327 [==============================] - 1s 3ms/step - loss: 0.2692 - accuracy: 0.9547 - val_loss: 0.2709 - val_accuracy: 0.9499\n",
            "Epoch 6/70\n",
            "327/327 [==============================] - 1s 3ms/step - loss: 0.2421 - accuracy: 0.9547 - val_loss: 0.2475 - val_accuracy: 0.9499\n",
            "Epoch 7/70\n",
            "327/327 [==============================] - 1s 3ms/step - loss: 0.2251 - accuracy: 0.9547 - val_loss: 0.2362 - val_accuracy: 0.9499\n",
            "Epoch 8/70\n",
            "327/327 [==============================] - 1s 3ms/step - loss: 0.2170 - accuracy: 0.9547 - val_loss: 0.2300 - val_accuracy: 0.9499\n",
            "Epoch 9/70\n",
            "327/327 [==============================] - 1s 3ms/step - loss: 0.2121 - accuracy: 0.9547 - val_loss: 0.2261 - val_accuracy: 0.9499\n",
            "Epoch 10/70\n",
            "327/327 [==============================] - 1s 3ms/step - loss: 0.2085 - accuracy: 0.9547 - val_loss: 0.2230 - val_accuracy: 0.9499\n",
            "Epoch 11/70\n",
            "327/327 [==============================] - 1s 3ms/step - loss: 0.2060 - accuracy: 0.9547 - val_loss: 0.2209 - val_accuracy: 0.9499\n",
            "Epoch 12/70\n",
            "327/327 [==============================] - 1s 3ms/step - loss: 0.2038 - accuracy: 0.9547 - val_loss: 0.2196 - val_accuracy: 0.9499\n",
            "Epoch 13/70\n",
            "327/327 [==============================] - 1s 3ms/step - loss: 0.2027 - accuracy: 0.9547 - val_loss: 0.2186 - val_accuracy: 0.9499\n",
            "Epoch 14/70\n",
            "327/327 [==============================] - 1s 3ms/step - loss: 0.2008 - accuracy: 0.9547 - val_loss: 0.2183 - val_accuracy: 0.9499\n",
            "Epoch 15/70\n",
            "327/327 [==============================] - 1s 3ms/step - loss: 0.1997 - accuracy: 0.9547 - val_loss: 0.2164 - val_accuracy: 0.9499\n",
            "Epoch 16/70\n",
            "327/327 [==============================] - 1s 3ms/step - loss: 0.1987 - accuracy: 0.9547 - val_loss: 0.2155 - val_accuracy: 0.9499\n",
            "Epoch 17/70\n",
            "327/327 [==============================] - 1s 3ms/step - loss: 0.1975 - accuracy: 0.9547 - val_loss: 0.2139 - val_accuracy: 0.9499\n",
            "Epoch 18/70\n",
            "327/327 [==============================] - 1s 3ms/step - loss: 0.1967 - accuracy: 0.9547 - val_loss: 0.2137 - val_accuracy: 0.9499\n",
            "Epoch 19/70\n",
            "327/327 [==============================] - 1s 3ms/step - loss: 0.1958 - accuracy: 0.9547 - val_loss: 0.2142 - val_accuracy: 0.9499\n",
            "Epoch 20/70\n",
            "327/327 [==============================] - 1s 3ms/step - loss: 0.1956 - accuracy: 0.9547 - val_loss: 0.2131 - val_accuracy: 0.9499\n",
            "Epoch 21/70\n",
            "327/327 [==============================] - 1s 3ms/step - loss: 0.1952 - accuracy: 0.9547 - val_loss: 0.2128 - val_accuracy: 0.9499\n",
            "Epoch 22/70\n",
            "327/327 [==============================] - 1s 3ms/step - loss: 0.1942 - accuracy: 0.9547 - val_loss: 0.2126 - val_accuracy: 0.9499\n",
            "Epoch 23/70\n",
            "327/327 [==============================] - 1s 4ms/step - loss: 0.1938 - accuracy: 0.9547 - val_loss: 0.2110 - val_accuracy: 0.9499\n",
            "Epoch 24/70\n",
            "327/327 [==============================] - 1s 3ms/step - loss: 0.1932 - accuracy: 0.9547 - val_loss: 0.2104 - val_accuracy: 0.9499\n",
            "Epoch 25/70\n",
            "327/327 [==============================] - 1s 3ms/step - loss: 0.1925 - accuracy: 0.9547 - val_loss: 0.2091 - val_accuracy: 0.9499\n",
            "Epoch 26/70\n",
            "327/327 [==============================] - 1s 3ms/step - loss: 0.1915 - accuracy: 0.9547 - val_loss: 0.2089 - val_accuracy: 0.9499\n",
            "Epoch 27/70\n",
            "327/327 [==============================] - 1s 3ms/step - loss: 0.1905 - accuracy: 0.9547 - val_loss: 0.2076 - val_accuracy: 0.9499\n",
            "Epoch 28/70\n",
            "327/327 [==============================] - 1s 3ms/step - loss: 0.1891 - accuracy: 0.9547 - val_loss: 0.2064 - val_accuracy: 0.9499\n",
            "Epoch 29/70\n",
            "327/327 [==============================] - 1s 3ms/step - loss: 0.1882 - accuracy: 0.9547 - val_loss: 0.2062 - val_accuracy: 0.9499\n",
            "Epoch 30/70\n",
            "327/327 [==============================] - 1s 3ms/step - loss: 0.1875 - accuracy: 0.9547 - val_loss: 0.2051 - val_accuracy: 0.9499\n",
            "Epoch 31/70\n",
            "327/327 [==============================] - 2s 5ms/step - loss: 0.1868 - accuracy: 0.9547 - val_loss: 0.2043 - val_accuracy: 0.9499\n",
            "Epoch 32/70\n",
            "327/327 [==============================] - 1s 4ms/step - loss: 0.1859 - accuracy: 0.9547 - val_loss: 0.2033 - val_accuracy: 0.9499\n",
            "Epoch 33/70\n",
            "327/327 [==============================] - 1s 3ms/step - loss: 0.1853 - accuracy: 0.9547 - val_loss: 0.2029 - val_accuracy: 0.9499\n",
            "Epoch 34/70\n",
            "327/327 [==============================] - 1s 3ms/step - loss: 0.1849 - accuracy: 0.9547 - val_loss: 0.2031 - val_accuracy: 0.9499\n",
            "Epoch 35/70\n",
            "327/327 [==============================] - 1s 4ms/step - loss: 0.1848 - accuracy: 0.9547 - val_loss: 0.2035 - val_accuracy: 0.9499\n",
            "Epoch 36/70\n",
            "327/327 [==============================] - 1s 3ms/step - loss: 0.1848 - accuracy: 0.9547 - val_loss: 0.2030 - val_accuracy: 0.9499\n",
            "Epoch 37/70\n",
            "327/327 [==============================] - 1s 3ms/step - loss: 0.1849 - accuracy: 0.9547 - val_loss: 0.2030 - val_accuracy: 0.9499\n",
            "Epoch 38/70\n",
            "327/327 [==============================] - 1s 3ms/step - loss: 0.1847 - accuracy: 0.9547 - val_loss: 0.2023 - val_accuracy: 0.9499\n",
            "Epoch 39/70\n",
            "327/327 [==============================] - 1s 3ms/step - loss: 0.1846 - accuracy: 0.9547 - val_loss: 0.2028 - val_accuracy: 0.9499\n",
            "Epoch 40/70\n",
            "327/327 [==============================] - 1s 3ms/step - loss: 0.1847 - accuracy: 0.9547 - val_loss: 0.2037 - val_accuracy: 0.9499\n",
            "Epoch 41/70\n",
            "327/327 [==============================] - 1s 3ms/step - loss: 0.1848 - accuracy: 0.9547 - val_loss: 0.2034 - val_accuracy: 0.9499\n",
            "Epoch 42/70\n",
            "327/327 [==============================] - 1s 3ms/step - loss: 0.1847 - accuracy: 0.9547 - val_loss: 0.2031 - val_accuracy: 0.9499\n",
            "Epoch 43/70\n",
            "327/327 [==============================] - 1s 3ms/step - loss: 0.1846 - accuracy: 0.9547 - val_loss: 0.2027 - val_accuracy: 0.9499\n",
            "Epoch 44/70\n",
            "327/327 [==============================] - 1s 3ms/step - loss: 0.1846 - accuracy: 0.9547 - val_loss: 0.2027 - val_accuracy: 0.9499\n",
            "Epoch 45/70\n",
            "327/327 [==============================] - 1s 3ms/step - loss: 0.1846 - accuracy: 0.9547 - val_loss: 0.2029 - val_accuracy: 0.9499\n",
            "Epoch 46/70\n",
            "327/327 [==============================] - 1s 3ms/step - loss: 0.1845 - accuracy: 0.9547 - val_loss: 0.2030 - val_accuracy: 0.9499\n",
            "Epoch 47/70\n",
            "327/327 [==============================] - 1s 3ms/step - loss: 0.1846 - accuracy: 0.9547 - val_loss: 0.2025 - val_accuracy: 0.9499\n",
            "Epoch 48/70\n",
            "327/327 [==============================] - 1s 3ms/step - loss: 0.1845 - accuracy: 0.9547 - val_loss: 0.2023 - val_accuracy: 0.9499\n",
            "Epoch 49/70\n",
            "327/327 [==============================] - 1s 3ms/step - loss: 0.1846 - accuracy: 0.9547 - val_loss: 0.2028 - val_accuracy: 0.9499\n",
            "Epoch 50/70\n",
            "327/327 [==============================] - 1s 3ms/step - loss: 0.1845 - accuracy: 0.9547 - val_loss: 0.2028 - val_accuracy: 0.9499\n",
            "Epoch 51/70\n",
            "327/327 [==============================] - 1s 3ms/step - loss: 0.1845 - accuracy: 0.9547 - val_loss: 0.2030 - val_accuracy: 0.9499\n",
            "Epoch 52/70\n",
            "327/327 [==============================] - 1s 3ms/step - loss: 0.1845 - accuracy: 0.9547 - val_loss: 0.2032 - val_accuracy: 0.9499\n",
            "Epoch 53/70\n",
            "327/327 [==============================] - 1s 4ms/step - loss: 0.1845 - accuracy: 0.9547 - val_loss: 0.2032 - val_accuracy: 0.9499\n",
            "Epoch 54/70\n",
            "327/327 [==============================] - 1s 3ms/step - loss: 0.1845 - accuracy: 0.9547 - val_loss: 0.2037 - val_accuracy: 0.9499\n",
            "Epoch 55/70\n",
            "327/327 [==============================] - 1s 3ms/step - loss: 0.1845 - accuracy: 0.9547 - val_loss: 0.2026 - val_accuracy: 0.9499\n",
            "Epoch 56/70\n",
            "327/327 [==============================] - 1s 3ms/step - loss: 0.1844 - accuracy: 0.9547 - val_loss: 0.2024 - val_accuracy: 0.9499\n",
            "Epoch 57/70\n",
            "327/327 [==============================] - 1s 3ms/step - loss: 0.1844 - accuracy: 0.9547 - val_loss: 0.2024 - val_accuracy: 0.9499\n",
            "Epoch 58/70\n",
            "327/327 [==============================] - 1s 3ms/step - loss: 0.1843 - accuracy: 0.9547 - val_loss: 0.2022 - val_accuracy: 0.9499\n",
            "Epoch 59/70\n",
            "327/327 [==============================] - 1s 3ms/step - loss: 0.1844 - accuracy: 0.9547 - val_loss: 0.2024 - val_accuracy: 0.9499\n",
            "Epoch 60/70\n",
            "327/327 [==============================] - 1s 3ms/step - loss: 0.1844 - accuracy: 0.9547 - val_loss: 0.2023 - val_accuracy: 0.9499\n",
            "Epoch 61/70\n",
            "327/327 [==============================] - 1s 3ms/step - loss: 0.1844 - accuracy: 0.9547 - val_loss: 0.2024 - val_accuracy: 0.9499\n",
            "Epoch 62/70\n",
            "327/327 [==============================] - 1s 3ms/step - loss: 0.1843 - accuracy: 0.9547 - val_loss: 0.2030 - val_accuracy: 0.9499\n",
            "Epoch 63/70\n",
            "327/327 [==============================] - 1s 3ms/step - loss: 0.1843 - accuracy: 0.9547 - val_loss: 0.2023 - val_accuracy: 0.9499\n",
            "Epoch 64/70\n",
            "327/327 [==============================] - 1s 3ms/step - loss: 0.1844 - accuracy: 0.9547 - val_loss: 0.2023 - val_accuracy: 0.9499\n",
            "Epoch 65/70\n",
            "327/327 [==============================] - 1s 3ms/step - loss: 0.1842 - accuracy: 0.9547 - val_loss: 0.2026 - val_accuracy: 0.9499\n",
            "Epoch 66/70\n",
            "327/327 [==============================] - 1s 3ms/step - loss: 0.1842 - accuracy: 0.9547 - val_loss: 0.2026 - val_accuracy: 0.9499\n",
            "Epoch 67/70\n",
            "327/327 [==============================] - 1s 3ms/step - loss: 0.1843 - accuracy: 0.9547 - val_loss: 0.2025 - val_accuracy: 0.9499\n",
            "Epoch 68/70\n",
            "327/327 [==============================] - 1s 3ms/step - loss: 0.1843 - accuracy: 0.9547 - val_loss: 0.2027 - val_accuracy: 0.9499\n",
            "Epoch 69/70\n",
            "327/327 [==============================] - 1s 3ms/step - loss: 0.1844 - accuracy: 0.9547 - val_loss: 0.2020 - val_accuracy: 0.9499\n",
            "Epoch 70/70\n",
            "327/327 [==============================] - 1s 3ms/step - loss: 0.1842 - accuracy: 0.9547 - val_loss: 0.2024 - val_accuracy: 0.9499\n"
          ]
        },
        {
          "output_type": "execute_result",
          "data": {
            "text/plain": [
              "<keras.callbacks.History at 0x7fc2f5acb3d0>"
            ]
          },
          "metadata": {},
          "execution_count": 45
        }
      ],
      "source": [
        "# L1 Reg\n",
        "model2 = Sequential()\n",
        "model2.add(Dense(10, input_dim=17, activation='relu', kernel_regularizer='l1'))\n",
        "model2.add(Dense(5, activation='relu', kernel_regularizer='l1'))\n",
        "model2.add(Dense(1, activation='sigmoid', kernel_regularizer='l1'))\n",
        "model2.compile(loss='binary_crossentropy', optimizer='adam', metrics=['accuracy'])\n",
        "model2.fit(X_train_80, y_train_80, epochs=70, batch_size=10, validation_split=0.2)"
      ]
    },
    {
      "cell_type": "code",
      "source": [
        "# L2 Reg\n",
        "model2 = Sequential()\n",
        "model2.add(Dense(10, input_dim=17, activation='relu', kernel_regularizer='l2'))\n",
        "model2.add(Dense(5, activation='relu', kernel_regularizer='l2'))\n",
        "model2.add(Dense(1, activation='sigmoid', kernel_regularizer='l2'))\n",
        "model2.compile(loss='binary_crossentropy', optimizer='adam', metrics=['accuracy'])\n",
        "model2.fit(X_train_80, y_train_80, epochs=70, batch_size=10, validation_split=0.2)"
      ],
      "metadata": {
        "colab": {
          "base_uri": "https://localhost:8080/"
        },
        "id": "IuRlEheFB00D",
        "outputId": "e3a1ee6c-bc4f-4a98-f726-9c5e0758d2a3"
      },
      "execution_count": 46,
      "outputs": [
        {
          "output_type": "stream",
          "name": "stdout",
          "text": [
            "Epoch 1/70\n",
            "327/327 [==============================] - 2s 4ms/step - loss: 0.7048 - accuracy: 0.7675 - val_loss: 0.4305 - val_accuracy: 0.9499\n",
            "Epoch 2/70\n",
            "327/327 [==============================] - 1s 3ms/step - loss: 0.3322 - accuracy: 0.9547 - val_loss: 0.2802 - val_accuracy: 0.9499\n",
            "Epoch 3/70\n",
            "327/327 [==============================] - 1s 3ms/step - loss: 0.2471 - accuracy: 0.9547 - val_loss: 0.2387 - val_accuracy: 0.9499\n",
            "Epoch 4/70\n",
            "327/327 [==============================] - 1s 3ms/step - loss: 0.2156 - accuracy: 0.9547 - val_loss: 0.2198 - val_accuracy: 0.9499\n",
            "Epoch 5/70\n",
            "327/327 [==============================] - 1s 3ms/step - loss: 0.1997 - accuracy: 0.9547 - val_loss: 0.2102 - val_accuracy: 0.9499\n",
            "Epoch 6/70\n",
            "327/327 [==============================] - 1s 4ms/step - loss: 0.1910 - accuracy: 0.9547 - val_loss: 0.2048 - val_accuracy: 0.9499\n",
            "Epoch 7/70\n",
            "327/327 [==============================] - 1s 3ms/step - loss: 0.1863 - accuracy: 0.9547 - val_loss: 0.2018 - val_accuracy: 0.9499\n",
            "Epoch 8/70\n",
            "327/327 [==============================] - 1s 3ms/step - loss: 0.1836 - accuracy: 0.9547 - val_loss: 0.1994 - val_accuracy: 0.9499\n",
            "Epoch 9/70\n",
            "327/327 [==============================] - 1s 3ms/step - loss: 0.1819 - accuracy: 0.9547 - val_loss: 0.1994 - val_accuracy: 0.9499\n",
            "Epoch 10/70\n",
            "327/327 [==============================] - 1s 3ms/step - loss: 0.1810 - accuracy: 0.9547 - val_loss: 0.1992 - val_accuracy: 0.9499\n",
            "Epoch 11/70\n",
            "327/327 [==============================] - 1s 3ms/step - loss: 0.1805 - accuracy: 0.9547 - val_loss: 0.1976 - val_accuracy: 0.9499\n",
            "Epoch 12/70\n",
            "327/327 [==============================] - 1s 3ms/step - loss: 0.1801 - accuracy: 0.9547 - val_loss: 0.1978 - val_accuracy: 0.9499\n",
            "Epoch 13/70\n",
            "327/327 [==============================] - 1s 4ms/step - loss: 0.1798 - accuracy: 0.9547 - val_loss: 0.1973 - val_accuracy: 0.9499\n",
            "Epoch 14/70\n",
            "327/327 [==============================] - 1s 3ms/step - loss: 0.1796 - accuracy: 0.9547 - val_loss: 0.1984 - val_accuracy: 0.9499\n",
            "Epoch 15/70\n",
            "327/327 [==============================] - 1s 4ms/step - loss: 0.1796 - accuracy: 0.9547 - val_loss: 0.1987 - val_accuracy: 0.9499\n",
            "Epoch 16/70\n",
            "327/327 [==============================] - 1s 3ms/step - loss: 0.1792 - accuracy: 0.9547 - val_loss: 0.1980 - val_accuracy: 0.9499\n",
            "Epoch 17/70\n",
            "327/327 [==============================] - 1s 3ms/step - loss: 0.1790 - accuracy: 0.9547 - val_loss: 0.1974 - val_accuracy: 0.9499\n",
            "Epoch 18/70\n",
            "327/327 [==============================] - 1s 3ms/step - loss: 0.1790 - accuracy: 0.9547 - val_loss: 0.1976 - val_accuracy: 0.9499\n",
            "Epoch 19/70\n",
            "327/327 [==============================] - 1s 3ms/step - loss: 0.1791 - accuracy: 0.9547 - val_loss: 0.1976 - val_accuracy: 0.9499\n",
            "Epoch 20/70\n",
            "327/327 [==============================] - 1s 3ms/step - loss: 0.1788 - accuracy: 0.9547 - val_loss: 0.1972 - val_accuracy: 0.9499\n",
            "Epoch 21/70\n",
            "327/327 [==============================] - 1s 3ms/step - loss: 0.1788 - accuracy: 0.9547 - val_loss: 0.1974 - val_accuracy: 0.9499\n",
            "Epoch 22/70\n",
            "327/327 [==============================] - 1s 3ms/step - loss: 0.1790 - accuracy: 0.9547 - val_loss: 0.1975 - val_accuracy: 0.9499\n",
            "Epoch 23/70\n",
            "327/327 [==============================] - 1s 3ms/step - loss: 0.1783 - accuracy: 0.9547 - val_loss: 0.1995 - val_accuracy: 0.9499\n",
            "Epoch 24/70\n",
            "327/327 [==============================] - 1s 3ms/step - loss: 0.1789 - accuracy: 0.9547 - val_loss: 0.1972 - val_accuracy: 0.9499\n",
            "Epoch 25/70\n",
            "327/327 [==============================] - 1s 3ms/step - loss: 0.1789 - accuracy: 0.9547 - val_loss: 0.1974 - val_accuracy: 0.9499\n",
            "Epoch 26/70\n",
            "327/327 [==============================] - 1s 3ms/step - loss: 0.1786 - accuracy: 0.9547 - val_loss: 0.1972 - val_accuracy: 0.9499\n",
            "Epoch 27/70\n",
            "327/327 [==============================] - 1s 3ms/step - loss: 0.1786 - accuracy: 0.9547 - val_loss: 0.1977 - val_accuracy: 0.9499\n",
            "Epoch 28/70\n",
            "327/327 [==============================] - 1s 3ms/step - loss: 0.1787 - accuracy: 0.9547 - val_loss: 0.1973 - val_accuracy: 0.9499\n",
            "Epoch 29/70\n",
            "327/327 [==============================] - 1s 3ms/step - loss: 0.1787 - accuracy: 0.9547 - val_loss: 0.1973 - val_accuracy: 0.9499\n",
            "Epoch 30/70\n",
            "327/327 [==============================] - 1s 3ms/step - loss: 0.1787 - accuracy: 0.9547 - val_loss: 0.1973 - val_accuracy: 0.9499\n",
            "Epoch 31/70\n",
            "327/327 [==============================] - 1s 3ms/step - loss: 0.1785 - accuracy: 0.9547 - val_loss: 0.1979 - val_accuracy: 0.9499\n",
            "Epoch 32/70\n",
            "327/327 [==============================] - 1s 3ms/step - loss: 0.1788 - accuracy: 0.9547 - val_loss: 0.1975 - val_accuracy: 0.9499\n",
            "Epoch 33/70\n",
            "327/327 [==============================] - 1s 3ms/step - loss: 0.1787 - accuracy: 0.9547 - val_loss: 0.1973 - val_accuracy: 0.9499\n",
            "Epoch 34/70\n",
            "327/327 [==============================] - 1s 3ms/step - loss: 0.1786 - accuracy: 0.9547 - val_loss: 0.1974 - val_accuracy: 0.9499\n",
            "Epoch 35/70\n",
            "327/327 [==============================] - 1s 4ms/step - loss: 0.1784 - accuracy: 0.9547 - val_loss: 0.1979 - val_accuracy: 0.9499\n",
            "Epoch 36/70\n",
            "327/327 [==============================] - 1s 3ms/step - loss: 0.1787 - accuracy: 0.9547 - val_loss: 0.1970 - val_accuracy: 0.9499\n",
            "Epoch 37/70\n",
            "327/327 [==============================] - 1s 3ms/step - loss: 0.1786 - accuracy: 0.9547 - val_loss: 0.1969 - val_accuracy: 0.9499\n",
            "Epoch 38/70\n",
            "327/327 [==============================] - 1s 3ms/step - loss: 0.1784 - accuracy: 0.9547 - val_loss: 0.1981 - val_accuracy: 0.9499\n",
            "Epoch 39/70\n",
            "327/327 [==============================] - 1s 3ms/step - loss: 0.1787 - accuracy: 0.9547 - val_loss: 0.1975 - val_accuracy: 0.9499\n",
            "Epoch 40/70\n",
            "327/327 [==============================] - 1s 3ms/step - loss: 0.1787 - accuracy: 0.9547 - val_loss: 0.1974 - val_accuracy: 0.9499\n",
            "Epoch 41/70\n",
            "327/327 [==============================] - 1s 3ms/step - loss: 0.1786 - accuracy: 0.9547 - val_loss: 0.1977 - val_accuracy: 0.9499\n",
            "Epoch 42/70\n",
            "327/327 [==============================] - 1s 3ms/step - loss: 0.1786 - accuracy: 0.9547 - val_loss: 0.1973 - val_accuracy: 0.9499\n",
            "Epoch 43/70\n",
            "327/327 [==============================] - 1s 3ms/step - loss: 0.1785 - accuracy: 0.9547 - val_loss: 0.1975 - val_accuracy: 0.9499\n",
            "Epoch 44/70\n",
            "327/327 [==============================] - 1s 3ms/step - loss: 0.1787 - accuracy: 0.9547 - val_loss: 0.1975 - val_accuracy: 0.9499\n",
            "Epoch 45/70\n",
            "327/327 [==============================] - 1s 3ms/step - loss: 0.1786 - accuracy: 0.9547 - val_loss: 0.1973 - val_accuracy: 0.9499\n",
            "Epoch 46/70\n",
            "327/327 [==============================] - 1s 3ms/step - loss: 0.1788 - accuracy: 0.9547 - val_loss: 0.1976 - val_accuracy: 0.9499\n",
            "Epoch 47/70\n",
            "327/327 [==============================] - 1s 3ms/step - loss: 0.1784 - accuracy: 0.9547 - val_loss: 0.1977 - val_accuracy: 0.9499\n",
            "Epoch 48/70\n",
            "327/327 [==============================] - 1s 4ms/step - loss: 0.1786 - accuracy: 0.9547 - val_loss: 0.1974 - val_accuracy: 0.9499\n",
            "Epoch 49/70\n",
            "327/327 [==============================] - 1s 3ms/step - loss: 0.1786 - accuracy: 0.9547 - val_loss: 0.1980 - val_accuracy: 0.9499\n",
            "Epoch 50/70\n",
            "327/327 [==============================] - 1s 3ms/step - loss: 0.1785 - accuracy: 0.9547 - val_loss: 0.1968 - val_accuracy: 0.9499\n",
            "Epoch 51/70\n",
            "327/327 [==============================] - 1s 3ms/step - loss: 0.1785 - accuracy: 0.9547 - val_loss: 0.1967 - val_accuracy: 0.9499\n",
            "Epoch 52/70\n",
            "327/327 [==============================] - 1s 3ms/step - loss: 0.1785 - accuracy: 0.9547 - val_loss: 0.1971 - val_accuracy: 0.9499\n",
            "Epoch 53/70\n",
            "327/327 [==============================] - 1s 3ms/step - loss: 0.1784 - accuracy: 0.9547 - val_loss: 0.1974 - val_accuracy: 0.9499\n",
            "Epoch 54/70\n",
            "327/327 [==============================] - 1s 3ms/step - loss: 0.1787 - accuracy: 0.9547 - val_loss: 0.1967 - val_accuracy: 0.9499\n",
            "Epoch 55/70\n",
            "327/327 [==============================] - 1s 4ms/step - loss: 0.1785 - accuracy: 0.9547 - val_loss: 0.1970 - val_accuracy: 0.9499\n",
            "Epoch 56/70\n",
            "327/327 [==============================] - 1s 3ms/step - loss: 0.1784 - accuracy: 0.9547 - val_loss: 0.1980 - val_accuracy: 0.9499\n",
            "Epoch 57/70\n",
            "327/327 [==============================] - 1s 3ms/step - loss: 0.1786 - accuracy: 0.9547 - val_loss: 0.1966 - val_accuracy: 0.9499\n",
            "Epoch 58/70\n",
            "327/327 [==============================] - 1s 3ms/step - loss: 0.1784 - accuracy: 0.9547 - val_loss: 0.1977 - val_accuracy: 0.9499\n",
            "Epoch 59/70\n",
            "327/327 [==============================] - 1s 3ms/step - loss: 0.1784 - accuracy: 0.9547 - val_loss: 0.1984 - val_accuracy: 0.9499\n",
            "Epoch 60/70\n",
            "327/327 [==============================] - 1s 3ms/step - loss: 0.1786 - accuracy: 0.9547 - val_loss: 0.1975 - val_accuracy: 0.9499\n",
            "Epoch 61/70\n",
            "327/327 [==============================] - 1s 3ms/step - loss: 0.1786 - accuracy: 0.9547 - val_loss: 0.1978 - val_accuracy: 0.9499\n",
            "Epoch 62/70\n",
            "327/327 [==============================] - 1s 3ms/step - loss: 0.1786 - accuracy: 0.9547 - val_loss: 0.1981 - val_accuracy: 0.9499\n",
            "Epoch 63/70\n",
            "327/327 [==============================] - 1s 3ms/step - loss: 0.1788 - accuracy: 0.9547 - val_loss: 0.1977 - val_accuracy: 0.9499\n",
            "Epoch 64/70\n",
            "327/327 [==============================] - 1s 3ms/step - loss: 0.1785 - accuracy: 0.9547 - val_loss: 0.1973 - val_accuracy: 0.9499\n",
            "Epoch 65/70\n",
            "327/327 [==============================] - 1s 3ms/step - loss: 0.1784 - accuracy: 0.9547 - val_loss: 0.1968 - val_accuracy: 0.9499\n",
            "Epoch 66/70\n",
            "327/327 [==============================] - 1s 3ms/step - loss: 0.1780 - accuracy: 0.9547 - val_loss: 0.1990 - val_accuracy: 0.9499\n",
            "Epoch 67/70\n",
            "327/327 [==============================] - 1s 3ms/step - loss: 0.1787 - accuracy: 0.9547 - val_loss: 0.1988 - val_accuracy: 0.9499\n",
            "Epoch 68/70\n",
            "327/327 [==============================] - 1s 4ms/step - loss: 0.1785 - accuracy: 0.9547 - val_loss: 0.1985 - val_accuracy: 0.9499\n",
            "Epoch 69/70\n",
            "327/327 [==============================] - 1s 3ms/step - loss: 0.1787 - accuracy: 0.9547 - val_loss: 0.1968 - val_accuracy: 0.9499\n",
            "Epoch 70/70\n",
            "327/327 [==============================] - 1s 3ms/step - loss: 0.1785 - accuracy: 0.9547 - val_loss: 0.1979 - val_accuracy: 0.9499\n"
          ]
        },
        {
          "output_type": "execute_result",
          "data": {
            "text/plain": [
              "<keras.callbacks.History at 0x7fc2f590d710>"
            ]
          },
          "metadata": {},
          "execution_count": 46
        }
      ]
    },
    {
      "cell_type": "markdown",
      "source": [
        "# Model 3"
      ],
      "metadata": {
        "id": "Ji6uf9jiB_HI"
      }
    },
    {
      "cell_type": "code",
      "source": [
        "# Get Pic\n",
        "model = Sequential()\n",
        "model.add(Dense(12, input_dim=17, activation='relu'))\n",
        "model.add(Dense(7, activation='relu'))\n",
        "model.add(Dense(4, activation='relu'))\n",
        "model.add(Dense(1, activation='sigmoid'))\n",
        "model.compile(loss='binary_crossentropy', optimizer='adam', metrics=['accuracy'])\n",
        "plot_model(model, to_file='model_plot.png', show_shapes=True, show_layer_names=True)"
      ],
      "metadata": {
        "colab": {
          "base_uri": "https://localhost:8080/",
          "height": 533
        },
        "id": "xACH4qSyCPeE",
        "outputId": "ab2af9ad-7ea1-4bec-d729-a56c2477852a"
      },
      "execution_count": 47,
      "outputs": [
        {
          "output_type": "execute_result",
          "data": {
            "text/plain": [
              "<IPython.core.display.Image object>"
            ],
            "image/png": "[encoded data removed]"
          },
          "metadata": {},
          "execution_count": 47
        }
      ]
    },
    {
      "cell_type": "code",
      "source": [
        "# No Reg\n",
        "model = Sequential()\n",
        "model.add(Dense(12, input_dim=17, activation='relu'))\n",
        "model.add(Dense(7, activation='relu'))\n",
        "model.add(Dense(4, activation='relu'))\n",
        "model.add(Dense(1, activation='sigmoid'))\n",
        "model.compile(loss='binary_crossentropy', optimizer='adam', metrics=['accuracy'])\n",
        "model2.fit(X_train_80, y_train_80, epochs=70, batch_size=10, validation_split=0.2)"
      ],
      "metadata": {
        "colab": {
          "base_uri": "https://localhost:8080/"
        },
        "id": "m9d6BpRfCPeF",
        "outputId": "3358cea5-a6ad-464c-e015-8f8510da8812"
      },
      "execution_count": 48,
      "outputs": [
        {
          "output_type": "stream",
          "name": "stdout",
          "text": [
            "Epoch 1/70\n",
            "327/327 [==============================] - 1s 4ms/step - loss: 0.1785 - accuracy: 0.9547 - val_loss: 0.1979 - val_accuracy: 0.9499\n",
            "Epoch 2/70\n",
            "327/327 [==============================] - 1s 3ms/step - loss: 0.1786 - accuracy: 0.9547 - val_loss: 0.1977 - val_accuracy: 0.9499\n",
            "Epoch 3/70\n",
            "327/327 [==============================] - 1s 3ms/step - loss: 0.1784 - accuracy: 0.9547 - val_loss: 0.1971 - val_accuracy: 0.9499\n",
            "Epoch 4/70\n",
            "327/327 [==============================] - 1s 3ms/step - loss: 0.1784 - accuracy: 0.9547 - val_loss: 0.1969 - val_accuracy: 0.9499\n",
            "Epoch 5/70\n",
            "327/327 [==============================] - 1s 3ms/step - loss: 0.1787 - accuracy: 0.9547 - val_loss: 0.1975 - val_accuracy: 0.9499\n",
            "Epoch 6/70\n",
            "327/327 [==============================] - 1s 3ms/step - loss: 0.1787 - accuracy: 0.9547 - val_loss: 0.1974 - val_accuracy: 0.9499\n",
            "Epoch 7/70\n",
            "327/327 [==============================] - 1s 3ms/step - loss: 0.1785 - accuracy: 0.9547 - val_loss: 0.1973 - val_accuracy: 0.9499\n",
            "Epoch 8/70\n",
            "327/327 [==============================] - 1s 3ms/step - loss: 0.1784 - accuracy: 0.9547 - val_loss: 0.1973 - val_accuracy: 0.9499\n",
            "Epoch 9/70\n",
            "327/327 [==============================] - 1s 3ms/step - loss: 0.1784 - accuracy: 0.9547 - val_loss: 0.1972 - val_accuracy: 0.9499\n",
            "Epoch 10/70\n",
            "327/327 [==============================] - 1s 3ms/step - loss: 0.1785 - accuracy: 0.9547 - val_loss: 0.1969 - val_accuracy: 0.9499\n",
            "Epoch 11/70\n",
            "327/327 [==============================] - 1s 3ms/step - loss: 0.1785 - accuracy: 0.9547 - val_loss: 0.1974 - val_accuracy: 0.9499\n",
            "Epoch 12/70\n",
            "327/327 [==============================] - 1s 3ms/step - loss: 0.1783 - accuracy: 0.9547 - val_loss: 0.1968 - val_accuracy: 0.9499\n",
            "Epoch 13/70\n",
            "327/327 [==============================] - 1s 3ms/step - loss: 0.1784 - accuracy: 0.9547 - val_loss: 0.1973 - val_accuracy: 0.9499\n",
            "Epoch 14/70\n",
            "327/327 [==============================] - 1s 3ms/step - loss: 0.1785 - accuracy: 0.9547 - val_loss: 0.1969 - val_accuracy: 0.9499\n",
            "Epoch 15/70\n",
            "327/327 [==============================] - 1s 3ms/step - loss: 0.1784 - accuracy: 0.9547 - val_loss: 0.1965 - val_accuracy: 0.9499\n",
            "Epoch 16/70\n",
            "327/327 [==============================] - 1s 3ms/step - loss: 0.1788 - accuracy: 0.9547 - val_loss: 0.1973 - val_accuracy: 0.9499\n",
            "Epoch 17/70\n",
            "327/327 [==============================] - 1s 4ms/step - loss: 0.1785 - accuracy: 0.9547 - val_loss: 0.1964 - val_accuracy: 0.9499\n",
            "Epoch 18/70\n",
            "327/327 [==============================] - 1s 3ms/step - loss: 0.1785 - accuracy: 0.9547 - val_loss: 0.1981 - val_accuracy: 0.9499\n",
            "Epoch 19/70\n",
            "327/327 [==============================] - 1s 3ms/step - loss: 0.1786 - accuracy: 0.9547 - val_loss: 0.1982 - val_accuracy: 0.9499\n",
            "Epoch 20/70\n",
            "327/327 [==============================] - 1s 3ms/step - loss: 0.1786 - accuracy: 0.9547 - val_loss: 0.1977 - val_accuracy: 0.9499\n",
            "Epoch 21/70\n",
            "327/327 [==============================] - 1s 3ms/step - loss: 0.1783 - accuracy: 0.9547 - val_loss: 0.1983 - val_accuracy: 0.9499\n",
            "Epoch 22/70\n",
            "327/327 [==============================] - 1s 3ms/step - loss: 0.1781 - accuracy: 0.9547 - val_loss: 0.1993 - val_accuracy: 0.9499\n",
            "Epoch 23/70\n",
            "327/327 [==============================] - 1s 3ms/step - loss: 0.1787 - accuracy: 0.9547 - val_loss: 0.1971 - val_accuracy: 0.9499\n",
            "Epoch 24/70\n",
            "327/327 [==============================] - 1s 3ms/step - loss: 0.1785 - accuracy: 0.9547 - val_loss: 0.1967 - val_accuracy: 0.9499\n",
            "Epoch 25/70\n",
            "327/327 [==============================] - 1s 3ms/step - loss: 0.1785 - accuracy: 0.9547 - val_loss: 0.1971 - val_accuracy: 0.9499\n",
            "Epoch 26/70\n",
            "327/327 [==============================] - 1s 3ms/step - loss: 0.1784 - accuracy: 0.9547 - val_loss: 0.1976 - val_accuracy: 0.9499\n",
            "Epoch 27/70\n",
            "327/327 [==============================] - 1s 3ms/step - loss: 0.1782 - accuracy: 0.9547 - val_loss: 0.1981 - val_accuracy: 0.9499\n",
            "Epoch 28/70\n",
            "327/327 [==============================] - 1s 3ms/step - loss: 0.1784 - accuracy: 0.9547 - val_loss: 0.1971 - val_accuracy: 0.9499\n",
            "Epoch 29/70\n",
            "327/327 [==============================] - 1s 3ms/step - loss: 0.1785 - accuracy: 0.9547 - val_loss: 0.1979 - val_accuracy: 0.9499\n",
            "Epoch 30/70\n",
            "327/327 [==============================] - 1s 3ms/step - loss: 0.1784 - accuracy: 0.9547 - val_loss: 0.1979 - val_accuracy: 0.9499\n",
            "Epoch 31/70\n",
            "327/327 [==============================] - 1s 3ms/step - loss: 0.1784 - accuracy: 0.9547 - val_loss: 0.1978 - val_accuracy: 0.9499\n",
            "Epoch 32/70\n",
            "327/327 [==============================] - 1s 3ms/step - loss: 0.1784 - accuracy: 0.9547 - val_loss: 0.1975 - val_accuracy: 0.9499\n",
            "Epoch 33/70\n",
            "327/327 [==============================] - 1s 3ms/step - loss: 0.1784 - accuracy: 0.9547 - val_loss: 0.1975 - val_accuracy: 0.9499\n",
            "Epoch 34/70\n",
            "327/327 [==============================] - 1s 3ms/step - loss: 0.1785 - accuracy: 0.9547 - val_loss: 0.1969 - val_accuracy: 0.9499\n",
            "Epoch 35/70\n",
            "327/327 [==============================] - 1s 3ms/step - loss: 0.1784 - accuracy: 0.9547 - val_loss: 0.1972 - val_accuracy: 0.9499\n",
            "Epoch 36/70\n",
            "327/327 [==============================] - 1s 4ms/step - loss: 0.1783 - accuracy: 0.9547 - val_loss: 0.1975 - val_accuracy: 0.9499\n",
            "Epoch 37/70\n",
            "327/327 [==============================] - 1s 3ms/step - loss: 0.1784 - accuracy: 0.9547 - val_loss: 0.1977 - val_accuracy: 0.9499\n",
            "Epoch 38/70\n",
            "327/327 [==============================] - 1s 3ms/step - loss: 0.1785 - accuracy: 0.9547 - val_loss: 0.1970 - val_accuracy: 0.9499\n",
            "Epoch 39/70\n",
            "327/327 [==============================] - 1s 3ms/step - loss: 0.1786 - accuracy: 0.9547 - val_loss: 0.1972 - val_accuracy: 0.9499\n",
            "Epoch 40/70\n",
            "327/327 [==============================] - 1s 3ms/step - loss: 0.1785 - accuracy: 0.9547 - val_loss: 0.1974 - val_accuracy: 0.9499\n",
            "Epoch 41/70\n",
            "327/327 [==============================] - 1s 4ms/step - loss: 0.1786 - accuracy: 0.9547 - val_loss: 0.1971 - val_accuracy: 0.9499\n",
            "Epoch 42/70\n",
            "327/327 [==============================] - 1s 3ms/step - loss: 0.1785 - accuracy: 0.9547 - val_loss: 0.1975 - val_accuracy: 0.9499\n",
            "Epoch 43/70\n",
            "327/327 [==============================] - 1s 3ms/step - loss: 0.1785 - accuracy: 0.9547 - val_loss: 0.1972 - val_accuracy: 0.9499\n",
            "Epoch 44/70\n",
            "327/327 [==============================] - 1s 3ms/step - loss: 0.1785 - accuracy: 0.9547 - val_loss: 0.1968 - val_accuracy: 0.9499\n",
            "Epoch 45/70\n",
            "327/327 [==============================] - 1s 3ms/step - loss: 0.1785 - accuracy: 0.9547 - val_loss: 0.1970 - val_accuracy: 0.9499\n",
            "Epoch 46/70\n",
            "327/327 [==============================] - 1s 3ms/step - loss: 0.1784 - accuracy: 0.9547 - val_loss: 0.1971 - val_accuracy: 0.9499\n",
            "Epoch 47/70\n",
            "327/327 [==============================] - 1s 3ms/step - loss: 0.1784 - accuracy: 0.9547 - val_loss: 0.1975 - val_accuracy: 0.9499\n",
            "Epoch 48/70\n",
            "327/327 [==============================] - 1s 3ms/step - loss: 0.1783 - accuracy: 0.9547 - val_loss: 0.1982 - val_accuracy: 0.9499\n",
            "Epoch 49/70\n",
            "327/327 [==============================] - 1s 3ms/step - loss: 0.1787 - accuracy: 0.9547 - val_loss: 0.1972 - val_accuracy: 0.9499\n",
            "Epoch 50/70\n",
            "327/327 [==============================] - 1s 3ms/step - loss: 0.1785 - accuracy: 0.9547 - val_loss: 0.1974 - val_accuracy: 0.9499\n",
            "Epoch 51/70\n",
            "327/327 [==============================] - 1s 3ms/step - loss: 0.1785 - accuracy: 0.9547 - val_loss: 0.1972 - val_accuracy: 0.9499\n",
            "Epoch 52/70\n",
            "327/327 [==============================] - 1s 3ms/step - loss: 0.1784 - accuracy: 0.9547 - val_loss: 0.1975 - val_accuracy: 0.9499\n",
            "Epoch 53/70\n",
            "327/327 [==============================] - 1s 3ms/step - loss: 0.1783 - accuracy: 0.9547 - val_loss: 0.1973 - val_accuracy: 0.9499\n",
            "Epoch 54/70\n",
            "327/327 [==============================] - 1s 3ms/step - loss: 0.1785 - accuracy: 0.9547 - val_loss: 0.1972 - val_accuracy: 0.9499\n",
            "Epoch 55/70\n",
            "327/327 [==============================] - 1s 3ms/step - loss: 0.1784 - accuracy: 0.9547 - val_loss: 0.1977 - val_accuracy: 0.9499\n",
            "Epoch 56/70\n",
            "327/327 [==============================] - 1s 3ms/step - loss: 0.1788 - accuracy: 0.9547 - val_loss: 0.1969 - val_accuracy: 0.9499\n",
            "Epoch 57/70\n",
            "327/327 [==============================] - 1s 3ms/step - loss: 0.1783 - accuracy: 0.9547 - val_loss: 0.1979 - val_accuracy: 0.9499\n",
            "Epoch 58/70\n",
            "327/327 [==============================] - 1s 3ms/step - loss: 0.1784 - accuracy: 0.9547 - val_loss: 0.1972 - val_accuracy: 0.9499\n",
            "Epoch 59/70\n",
            "327/327 [==============================] - 1s 3ms/step - loss: 0.1782 - accuracy: 0.9547 - val_loss: 0.1983 - val_accuracy: 0.9499\n",
            "Epoch 60/70\n",
            "327/327 [==============================] - 1s 3ms/step - loss: 0.1784 - accuracy: 0.9547 - val_loss: 0.1968 - val_accuracy: 0.9499\n",
            "Epoch 61/70\n",
            "327/327 [==============================] - 1s 3ms/step - loss: 0.1784 - accuracy: 0.9547 - val_loss: 0.1976 - val_accuracy: 0.9499\n",
            "Epoch 62/70\n",
            "327/327 [==============================] - 1s 3ms/step - loss: 0.1784 - accuracy: 0.9547 - val_loss: 0.1968 - val_accuracy: 0.9499\n",
            "Epoch 63/70\n",
            "327/327 [==============================] - 1s 3ms/step - loss: 0.1783 - accuracy: 0.9547 - val_loss: 0.1977 - val_accuracy: 0.9499\n",
            "Epoch 64/70\n",
            "327/327 [==============================] - 1s 3ms/step - loss: 0.1781 - accuracy: 0.9547 - val_loss: 0.1966 - val_accuracy: 0.9499\n",
            "Epoch 65/70\n",
            "327/327 [==============================] - 1s 4ms/step - loss: 0.1785 - accuracy: 0.9547 - val_loss: 0.1973 - val_accuracy: 0.9499\n",
            "Epoch 66/70\n",
            "327/327 [==============================] - 1s 3ms/step - loss: 0.1785 - accuracy: 0.9547 - val_loss: 0.1973 - val_accuracy: 0.9499\n",
            "Epoch 67/70\n",
            "327/327 [==============================] - 1s 3ms/step - loss: 0.1784 - accuracy: 0.9547 - val_loss: 0.1974 - val_accuracy: 0.9499\n",
            "Epoch 68/70\n",
            "327/327 [==============================] - 1s 3ms/step - loss: 0.1784 - accuracy: 0.9547 - val_loss: 0.1974 - val_accuracy: 0.9499\n",
            "Epoch 69/70\n",
            "327/327 [==============================] - 1s 3ms/step - loss: 0.1784 - accuracy: 0.9547 - val_loss: 0.1977 - val_accuracy: 0.9499\n",
            "Epoch 70/70\n",
            "327/327 [==============================] - 1s 3ms/step - loss: 0.1786 - accuracy: 0.9547 - val_loss: 0.1973 - val_accuracy: 0.9499\n"
          ]
        },
        {
          "output_type": "execute_result",
          "data": {
            "text/plain": [
              "<keras.callbacks.History at 0x7fc2efe02250>"
            ]
          },
          "metadata": {},
          "execution_count": 48
        }
      ]
    },
    {
      "cell_type": "code",
      "execution_count": 49,
      "metadata": {
        "colab": {
          "base_uri": "https://localhost:8080/"
        },
        "id": "bfzYaSLSCPeF",
        "outputId": "298f701e-ce20-4f81-e054-d70d7a6fe46e"
      },
      "outputs": [
        {
          "output_type": "stream",
          "name": "stdout",
          "text": [
            "Epoch 1/70\n",
            "327/327 [==============================] - 1s 3ms/step - loss: 0.1783 - accuracy: 0.9547 - val_loss: 0.1980 - val_accuracy: 0.9499\n",
            "Epoch 2/70\n",
            "327/327 [==============================] - 1s 3ms/step - loss: 0.1787 - accuracy: 0.9547 - val_loss: 0.1972 - val_accuracy: 0.9499\n",
            "Epoch 3/70\n",
            "327/327 [==============================] - 1s 3ms/step - loss: 0.1784 - accuracy: 0.9547 - val_loss: 0.1978 - val_accuracy: 0.9499\n",
            "Epoch 4/70\n",
            "327/327 [==============================] - 1s 3ms/step - loss: 0.1785 - accuracy: 0.9547 - val_loss: 0.1976 - val_accuracy: 0.9499\n",
            "Epoch 5/70\n",
            "327/327 [==============================] - 1s 3ms/step - loss: 0.1784 - accuracy: 0.9547 - val_loss: 0.1975 - val_accuracy: 0.9499\n",
            "Epoch 6/70\n",
            "327/327 [==============================] - 1s 3ms/step - loss: 0.1781 - accuracy: 0.9547 - val_loss: 0.1968 - val_accuracy: 0.9499\n",
            "Epoch 7/70\n",
            "327/327 [==============================] - 1s 3ms/step - loss: 0.1785 - accuracy: 0.9547 - val_loss: 0.1969 - val_accuracy: 0.9499\n",
            "Epoch 8/70\n",
            "327/327 [==============================] - 1s 3ms/step - loss: 0.1785 - accuracy: 0.9547 - val_loss: 0.1971 - val_accuracy: 0.9499\n",
            "Epoch 9/70\n",
            "327/327 [==============================] - 1s 3ms/step - loss: 0.1782 - accuracy: 0.9547 - val_loss: 0.1981 - val_accuracy: 0.9499\n",
            "Epoch 10/70\n",
            "327/327 [==============================] - 1s 3ms/step - loss: 0.1785 - accuracy: 0.9547 - val_loss: 0.1968 - val_accuracy: 0.9499\n",
            "Epoch 11/70\n",
            "327/327 [==============================] - 1s 3ms/step - loss: 0.1783 - accuracy: 0.9547 - val_loss: 0.1965 - val_accuracy: 0.9499\n",
            "Epoch 12/70\n",
            "327/327 [==============================] - 1s 3ms/step - loss: 0.1784 - accuracy: 0.9547 - val_loss: 0.1972 - val_accuracy: 0.9499\n",
            "Epoch 13/70\n",
            "327/327 [==============================] - 1s 3ms/step - loss: 0.1783 - accuracy: 0.9547 - val_loss: 0.1972 - val_accuracy: 0.9499\n",
            "Epoch 14/70\n",
            "327/327 [==============================] - 1s 3ms/step - loss: 0.1783 - accuracy: 0.9547 - val_loss: 0.1978 - val_accuracy: 0.9499\n",
            "Epoch 15/70\n",
            "327/327 [==============================] - 1s 3ms/step - loss: 0.1784 - accuracy: 0.9547 - val_loss: 0.1971 - val_accuracy: 0.9499\n",
            "Epoch 16/70\n",
            "327/327 [==============================] - 1s 3ms/step - loss: 0.1784 - accuracy: 0.9547 - val_loss: 0.1976 - val_accuracy: 0.9499\n",
            "Epoch 17/70\n",
            "327/327 [==============================] - 1s 3ms/step - loss: 0.1784 - accuracy: 0.9547 - val_loss: 0.1966 - val_accuracy: 0.9499\n",
            "Epoch 18/70\n",
            "327/327 [==============================] - 1s 3ms/step - loss: 0.1785 - accuracy: 0.9547 - val_loss: 0.1970 - val_accuracy: 0.9499\n",
            "Epoch 19/70\n",
            "327/327 [==============================] - 1s 3ms/step - loss: 0.1780 - accuracy: 0.9547 - val_loss: 0.1985 - val_accuracy: 0.9499\n",
            "Epoch 20/70\n",
            "327/327 [==============================] - 1s 3ms/step - loss: 0.1784 - accuracy: 0.9547 - val_loss: 0.1972 - val_accuracy: 0.9499\n",
            "Epoch 21/70\n",
            "327/327 [==============================] - 1s 3ms/step - loss: 0.1782 - accuracy: 0.9547 - val_loss: 0.1979 - val_accuracy: 0.9499\n",
            "Epoch 22/70\n",
            "327/327 [==============================] - 1s 3ms/step - loss: 0.1784 - accuracy: 0.9547 - val_loss: 0.1976 - val_accuracy: 0.9499\n",
            "Epoch 23/70\n",
            "327/327 [==============================] - 1s 3ms/step - loss: 0.1784 - accuracy: 0.9547 - val_loss: 0.1967 - val_accuracy: 0.9499\n",
            "Epoch 24/70\n",
            "327/327 [==============================] - 1s 3ms/step - loss: 0.1785 - accuracy: 0.9547 - val_loss: 0.1976 - val_accuracy: 0.9499\n",
            "Epoch 25/70\n",
            "327/327 [==============================] - 1s 3ms/step - loss: 0.1783 - accuracy: 0.9547 - val_loss: 0.1972 - val_accuracy: 0.9499\n",
            "Epoch 26/70\n",
            "327/327 [==============================] - 1s 3ms/step - loss: 0.1784 - accuracy: 0.9547 - val_loss: 0.1977 - val_accuracy: 0.9499\n",
            "Epoch 27/70\n",
            "327/327 [==============================] - 1s 3ms/step - loss: 0.1785 - accuracy: 0.9547 - val_loss: 0.1980 - val_accuracy: 0.9499\n",
            "Epoch 28/70\n",
            "327/327 [==============================] - 1s 3ms/step - loss: 0.1784 - accuracy: 0.9547 - val_loss: 0.1970 - val_accuracy: 0.9499\n",
            "Epoch 29/70\n",
            "327/327 [==============================] - 1s 3ms/step - loss: 0.1783 - accuracy: 0.9547 - val_loss: 0.1970 - val_accuracy: 0.9499\n",
            "Epoch 30/70\n",
            "327/327 [==============================] - 1s 3ms/step - loss: 0.1783 - accuracy: 0.9547 - val_loss: 0.1971 - val_accuracy: 0.9499\n",
            "Epoch 31/70\n",
            "327/327 [==============================] - 1s 3ms/step - loss: 0.1784 - accuracy: 0.9547 - val_loss: 0.1969 - val_accuracy: 0.9499\n",
            "Epoch 32/70\n",
            "327/327 [==============================] - 1s 3ms/step - loss: 0.1783 - accuracy: 0.9547 - val_loss: 0.1971 - val_accuracy: 0.9499\n",
            "Epoch 33/70\n",
            "327/327 [==============================] - 1s 3ms/step - loss: 0.1782 - accuracy: 0.9547 - val_loss: 0.1968 - val_accuracy: 0.9499\n",
            "Epoch 34/70\n",
            "327/327 [==============================] - 1s 3ms/step - loss: 0.1786 - accuracy: 0.9547 - val_loss: 0.1967 - val_accuracy: 0.9499\n",
            "Epoch 35/70\n",
            "327/327 [==============================] - 1s 3ms/step - loss: 0.1785 - accuracy: 0.9547 - val_loss: 0.1971 - val_accuracy: 0.9499\n",
            "Epoch 36/70\n",
            "327/327 [==============================] - 1s 3ms/step - loss: 0.1784 - accuracy: 0.9547 - val_loss: 0.1973 - val_accuracy: 0.9499\n",
            "Epoch 37/70\n",
            "327/327 [==============================] - 1s 3ms/step - loss: 0.1783 - accuracy: 0.9547 - val_loss: 0.1972 - val_accuracy: 0.9499\n",
            "Epoch 38/70\n",
            "327/327 [==============================] - 1s 3ms/step - loss: 0.1783 - accuracy: 0.9547 - val_loss: 0.1969 - val_accuracy: 0.9499\n",
            "Epoch 39/70\n",
            "327/327 [==============================] - 1s 3ms/step - loss: 0.1783 - accuracy: 0.9547 - val_loss: 0.1976 - val_accuracy: 0.9499\n",
            "Epoch 40/70\n",
            "327/327 [==============================] - 1s 3ms/step - loss: 0.1783 - accuracy: 0.9547 - val_loss: 0.1966 - val_accuracy: 0.9499\n",
            "Epoch 41/70\n",
            "327/327 [==============================] - 1s 3ms/step - loss: 0.1784 - accuracy: 0.9547 - val_loss: 0.1971 - val_accuracy: 0.9499\n",
            "Epoch 42/70\n",
            "327/327 [==============================] - 1s 3ms/step - loss: 0.1783 - accuracy: 0.9547 - val_loss: 0.1967 - val_accuracy: 0.9499\n",
            "Epoch 43/70\n",
            "327/327 [==============================] - 1s 3ms/step - loss: 0.1784 - accuracy: 0.9547 - val_loss: 0.1967 - val_accuracy: 0.9499\n",
            "Epoch 44/70\n",
            "327/327 [==============================] - 1s 3ms/step - loss: 0.1784 - accuracy: 0.9547 - val_loss: 0.1972 - val_accuracy: 0.9499\n",
            "Epoch 45/70\n",
            "327/327 [==============================] - 1s 3ms/step - loss: 0.1782 - accuracy: 0.9547 - val_loss: 0.1973 - val_accuracy: 0.9499\n",
            "Epoch 46/70\n",
            "327/327 [==============================] - 1s 3ms/step - loss: 0.1783 - accuracy: 0.9547 - val_loss: 0.1967 - val_accuracy: 0.9499\n",
            "Epoch 47/70\n",
            "327/327 [==============================] - 1s 3ms/step - loss: 0.1785 - accuracy: 0.9547 - val_loss: 0.1974 - val_accuracy: 0.9499\n",
            "Epoch 48/70\n",
            "327/327 [==============================] - 1s 3ms/step - loss: 0.1784 - accuracy: 0.9547 - val_loss: 0.1967 - val_accuracy: 0.9499\n",
            "Epoch 49/70\n",
            "327/327 [==============================] - 1s 3ms/step - loss: 0.1784 - accuracy: 0.9547 - val_loss: 0.1979 - val_accuracy: 0.9499\n",
            "Epoch 50/70\n",
            "327/327 [==============================] - 1s 3ms/step - loss: 0.1786 - accuracy: 0.9547 - val_loss: 0.1971 - val_accuracy: 0.9499\n",
            "Epoch 51/70\n",
            "327/327 [==============================] - 1s 3ms/step - loss: 0.1783 - accuracy: 0.9547 - val_loss: 0.1970 - val_accuracy: 0.9499\n",
            "Epoch 52/70\n",
            "327/327 [==============================] - 1s 3ms/step - loss: 0.1783 - accuracy: 0.9547 - val_loss: 0.1964 - val_accuracy: 0.9499\n",
            "Epoch 53/70\n",
            "327/327 [==============================] - 1s 3ms/step - loss: 0.1782 - accuracy: 0.9547 - val_loss: 0.1976 - val_accuracy: 0.9499\n",
            "Epoch 54/70\n",
            "327/327 [==============================] - 1s 3ms/step - loss: 0.1784 - accuracy: 0.9547 - val_loss: 0.1975 - val_accuracy: 0.9499\n",
            "Epoch 55/70\n",
            "327/327 [==============================] - 1s 3ms/step - loss: 0.1783 - accuracy: 0.9547 - val_loss: 0.1976 - val_accuracy: 0.9499\n",
            "Epoch 56/70\n",
            "327/327 [==============================] - 1s 3ms/step - loss: 0.1783 - accuracy: 0.9547 - val_loss: 0.1967 - val_accuracy: 0.9499\n",
            "Epoch 57/70\n",
            "327/327 [==============================] - 1s 3ms/step - loss: 0.1784 - accuracy: 0.9547 - val_loss: 0.1975 - val_accuracy: 0.9499\n",
            "Epoch 58/70\n",
            "327/327 [==============================] - 1s 3ms/step - loss: 0.1784 - accuracy: 0.9547 - val_loss: 0.1970 - val_accuracy: 0.9499\n",
            "Epoch 59/70\n",
            "327/327 [==============================] - 1s 3ms/step - loss: 0.1785 - accuracy: 0.9547 - val_loss: 0.1966 - val_accuracy: 0.9499\n",
            "Epoch 60/70\n",
            "327/327 [==============================] - 1s 3ms/step - loss: 0.1785 - accuracy: 0.9547 - val_loss: 0.1977 - val_accuracy: 0.9499\n",
            "Epoch 61/70\n",
            "327/327 [==============================] - 1s 3ms/step - loss: 0.1785 - accuracy: 0.9547 - val_loss: 0.1974 - val_accuracy: 0.9499\n",
            "Epoch 62/70\n",
            "327/327 [==============================] - 1s 3ms/step - loss: 0.1784 - accuracy: 0.9547 - val_loss: 0.1970 - val_accuracy: 0.9499\n",
            "Epoch 63/70\n",
            "327/327 [==============================] - 1s 3ms/step - loss: 0.1783 - accuracy: 0.9547 - val_loss: 0.1971 - val_accuracy: 0.9499\n",
            "Epoch 64/70\n",
            "327/327 [==============================] - 1s 3ms/step - loss: 0.1784 - accuracy: 0.9547 - val_loss: 0.1965 - val_accuracy: 0.9499\n",
            "Epoch 65/70\n",
            "327/327 [==============================] - 1s 3ms/step - loss: 0.1783 - accuracy: 0.9547 - val_loss: 0.1976 - val_accuracy: 0.9499\n",
            "Epoch 66/70\n",
            "327/327 [==============================] - 1s 3ms/step - loss: 0.1781 - accuracy: 0.9547 - val_loss: 0.1986 - val_accuracy: 0.9499\n",
            "Epoch 67/70\n",
            "327/327 [==============================] - 1s 3ms/step - loss: 0.1782 - accuracy: 0.9547 - val_loss: 0.1968 - val_accuracy: 0.9499\n",
            "Epoch 68/70\n",
            "327/327 [==============================] - 1s 3ms/step - loss: 0.1783 - accuracy: 0.9547 - val_loss: 0.1966 - val_accuracy: 0.9499\n",
            "Epoch 69/70\n",
            "327/327 [==============================] - 1s 3ms/step - loss: 0.1783 - accuracy: 0.9547 - val_loss: 0.1966 - val_accuracy: 0.9499\n",
            "Epoch 70/70\n",
            "327/327 [==============================] - 1s 3ms/step - loss: 0.1783 - accuracy: 0.9547 - val_loss: 0.1972 - val_accuracy: 0.9499\n"
          ]
        },
        {
          "output_type": "execute_result",
          "data": {
            "text/plain": [
              "<keras.callbacks.History at 0x7fc2efd9b250>"
            ]
          },
          "metadata": {},
          "execution_count": 49
        }
      ],
      "source": [
        "# L1 Reg\n",
        "model = Sequential()\n",
        "model.add(Dense(12, input_dim=17, activation='relu', kernel_regularizer='l1'))\n",
        "model.add(Dense(7, activation='relu', kernel_regularizer='l1'))\n",
        "model.add(Dense(4, activation='relu', kernel_regularizer='l1'))\n",
        "model.add(Dense(1, activation='sigmoid', kernel_regularizer='l1'))\n",
        "model.compile(loss='binary_crossentropy', optimizer='adam', metrics=['accuracy'])\n",
        "model2.fit(X_train_80, y_train_80, epochs=70, batch_size=10, validation_split=0.2)"
      ]
    },
    {
      "cell_type": "code",
      "source": [
        "# L2 Reg\n",
        "model = Sequential()\n",
        "model.add(Dense(12, input_dim=17, activation='relu', kernel_regularizer='l2'))\n",
        "model.add(Dense(7, activation='relu', kernel_regularizer='l2'))\n",
        "model.add(Dense(4, activation='relu', kernel_regularizer='l2'))\n",
        "model.add(Dense(1, activation='sigmoid', kernel_regularizer='l2'))\n",
        "model.compile(loss='binary_crossentropy', optimizer='adam', metrics=['accuracy'])\n",
        "model2.fit(X_train_80, y_train_80, epochs=70, batch_size=10, validation_split=0.2)"
      ],
      "metadata": {
        "colab": {
          "base_uri": "https://localhost:8080/"
        },
        "id": "b7SuNrwaCPeF",
        "outputId": "890e7726-42e2-4d0f-98d9-e41aa04123fc"
      },
      "execution_count": 50,
      "outputs": [
        {
          "output_type": "stream",
          "name": "stdout",
          "text": [
            "Epoch 1/70\n",
            "327/327 [==============================] - 1s 3ms/step - loss: 0.1784 - accuracy: 0.9547 - val_loss: 0.1975 - val_accuracy: 0.9499\n",
            "Epoch 2/70\n",
            "327/327 [==============================] - 1s 3ms/step - loss: 0.1782 - accuracy: 0.9547 - val_loss: 0.1986 - val_accuracy: 0.9499\n",
            "Epoch 3/70\n",
            "327/327 [==============================] - 1s 3ms/step - loss: 0.1789 - accuracy: 0.9547 - val_loss: 0.1977 - val_accuracy: 0.9499\n",
            "Epoch 4/70\n",
            "327/327 [==============================] - 1s 3ms/step - loss: 0.1784 - accuracy: 0.9547 - val_loss: 0.1978 - val_accuracy: 0.9499\n",
            "Epoch 5/70\n",
            "327/327 [==============================] - 1s 3ms/step - loss: 0.1784 - accuracy: 0.9547 - val_loss: 0.1972 - val_accuracy: 0.9499\n",
            "Epoch 6/70\n",
            "327/327 [==============================] - 1s 3ms/step - loss: 0.1784 - accuracy: 0.9547 - val_loss: 0.1971 - val_accuracy: 0.9499\n",
            "Epoch 7/70\n",
            "327/327 [==============================] - 1s 3ms/step - loss: 0.1783 - accuracy: 0.9547 - val_loss: 0.1985 - val_accuracy: 0.9499\n",
            "Epoch 8/70\n",
            "327/327 [==============================] - 1s 3ms/step - loss: 0.1783 - accuracy: 0.9547 - val_loss: 0.1971 - val_accuracy: 0.9499\n",
            "Epoch 9/70\n",
            "327/327 [==============================] - 1s 3ms/step - loss: 0.1783 - accuracy: 0.9547 - val_loss: 0.1975 - val_accuracy: 0.9499\n",
            "Epoch 10/70\n",
            "327/327 [==============================] - 1s 3ms/step - loss: 0.1784 - accuracy: 0.9547 - val_loss: 0.1966 - val_accuracy: 0.9499\n",
            "Epoch 11/70\n",
            "327/327 [==============================] - 1s 3ms/step - loss: 0.1785 - accuracy: 0.9547 - val_loss: 0.1969 - val_accuracy: 0.9499\n",
            "Epoch 12/70\n",
            "327/327 [==============================] - 1s 3ms/step - loss: 0.1783 - accuracy: 0.9547 - val_loss: 0.1968 - val_accuracy: 0.9499\n",
            "Epoch 13/70\n",
            "327/327 [==============================] - 1s 3ms/step - loss: 0.1782 - accuracy: 0.9547 - val_loss: 0.1972 - val_accuracy: 0.9499\n",
            "Epoch 14/70\n",
            "327/327 [==============================] - 1s 3ms/step - loss: 0.1783 - accuracy: 0.9547 - val_loss: 0.1975 - val_accuracy: 0.9499\n",
            "Epoch 15/70\n",
            "327/327 [==============================] - 1s 3ms/step - loss: 0.1784 - accuracy: 0.9547 - val_loss: 0.1972 - val_accuracy: 0.9499\n",
            "Epoch 16/70\n",
            "327/327 [==============================] - 1s 4ms/step - loss: 0.1783 - accuracy: 0.9547 - val_loss: 0.1966 - val_accuracy: 0.9499\n",
            "Epoch 17/70\n",
            "327/327 [==============================] - 1s 3ms/step - loss: 0.1785 - accuracy: 0.9547 - val_loss: 0.1966 - val_accuracy: 0.9499\n",
            "Epoch 18/70\n",
            "327/327 [==============================] - 1s 3ms/step - loss: 0.1783 - accuracy: 0.9547 - val_loss: 0.1973 - val_accuracy: 0.9499\n",
            "Epoch 19/70\n",
            "327/327 [==============================] - 1s 3ms/step - loss: 0.1784 - accuracy: 0.9547 - val_loss: 0.1974 - val_accuracy: 0.9499\n",
            "Epoch 20/70\n",
            "327/327 [==============================] - 1s 3ms/step - loss: 0.1784 - accuracy: 0.9547 - val_loss: 0.1973 - val_accuracy: 0.9499\n",
            "Epoch 21/70\n",
            "327/327 [==============================] - 1s 3ms/step - loss: 0.1783 - accuracy: 0.9547 - val_loss: 0.1968 - val_accuracy: 0.9499\n",
            "Epoch 22/70\n",
            "327/327 [==============================] - 1s 3ms/step - loss: 0.1784 - accuracy: 0.9547 - val_loss: 0.1971 - val_accuracy: 0.9499\n",
            "Epoch 23/70\n",
            "327/327 [==============================] - 1s 3ms/step - loss: 0.1785 - accuracy: 0.9547 - val_loss: 0.1973 - val_accuracy: 0.9499\n",
            "Epoch 24/70\n",
            "327/327 [==============================] - 1s 3ms/step - loss: 0.1782 - accuracy: 0.9547 - val_loss: 0.1966 - val_accuracy: 0.9499\n",
            "Epoch 25/70\n",
            "327/327 [==============================] - 1s 3ms/step - loss: 0.1784 - accuracy: 0.9547 - val_loss: 0.1971 - val_accuracy: 0.9499\n",
            "Epoch 26/70\n",
            "327/327 [==============================] - 1s 3ms/step - loss: 0.1782 - accuracy: 0.9547 - val_loss: 0.1972 - val_accuracy: 0.9499\n",
            "Epoch 27/70\n",
            "327/327 [==============================] - 1s 3ms/step - loss: 0.1785 - accuracy: 0.9547 - val_loss: 0.1973 - val_accuracy: 0.9499\n",
            "Epoch 28/70\n",
            "327/327 [==============================] - 1s 3ms/step - loss: 0.1783 - accuracy: 0.9547 - val_loss: 0.1979 - val_accuracy: 0.9499\n",
            "Epoch 29/70\n",
            "327/327 [==============================] - 1s 4ms/step - loss: 0.1784 - accuracy: 0.9547 - val_loss: 0.1969 - val_accuracy: 0.9499\n",
            "Epoch 30/70\n",
            "327/327 [==============================] - 1s 3ms/step - loss: 0.1784 - accuracy: 0.9547 - val_loss: 0.1979 - val_accuracy: 0.9499\n",
            "Epoch 31/70\n",
            "327/327 [==============================] - 1s 3ms/step - loss: 0.1784 - accuracy: 0.9547 - val_loss: 0.1970 - val_accuracy: 0.9499\n",
            "Epoch 32/70\n",
            "327/327 [==============================] - 1s 3ms/step - loss: 0.1784 - accuracy: 0.9547 - val_loss: 0.1968 - val_accuracy: 0.9499\n",
            "Epoch 33/70\n",
            "327/327 [==============================] - 1s 3ms/step - loss: 0.1784 - accuracy: 0.9547 - val_loss: 0.1973 - val_accuracy: 0.9499\n",
            "Epoch 34/70\n",
            "327/327 [==============================] - 1s 3ms/step - loss: 0.1783 - accuracy: 0.9547 - val_loss: 0.1967 - val_accuracy: 0.9499\n",
            "Epoch 35/70\n",
            "327/327 [==============================] - 1s 3ms/step - loss: 0.1783 - accuracy: 0.9547 - val_loss: 0.1970 - val_accuracy: 0.9499\n",
            "Epoch 36/70\n",
            "327/327 [==============================] - 1s 3ms/step - loss: 0.1783 - accuracy: 0.9547 - val_loss: 0.1970 - val_accuracy: 0.9499\n",
            "Epoch 37/70\n",
            "327/327 [==============================] - 1s 3ms/step - loss: 0.1781 - accuracy: 0.9547 - val_loss: 0.1980 - val_accuracy: 0.9499\n",
            "Epoch 38/70\n",
            "327/327 [==============================] - 1s 3ms/step - loss: 0.1785 - accuracy: 0.9547 - val_loss: 0.1975 - val_accuracy: 0.9499\n",
            "Epoch 39/70\n",
            "327/327 [==============================] - 1s 3ms/step - loss: 0.1784 - accuracy: 0.9547 - val_loss: 0.1974 - val_accuracy: 0.9499\n",
            "Epoch 40/70\n",
            "327/327 [==============================] - 1s 3ms/step - loss: 0.1783 - accuracy: 0.9547 - val_loss: 0.1965 - val_accuracy: 0.9499\n",
            "Epoch 41/70\n",
            "327/327 [==============================] - 1s 3ms/step - loss: 0.1783 - accuracy: 0.9547 - val_loss: 0.1972 - val_accuracy: 0.9499\n",
            "Epoch 42/70\n",
            "327/327 [==============================] - 1s 3ms/step - loss: 0.1783 - accuracy: 0.9547 - val_loss: 0.1974 - val_accuracy: 0.9499\n",
            "Epoch 43/70\n",
            "327/327 [==============================] - 1s 3ms/step - loss: 0.1784 - accuracy: 0.9547 - val_loss: 0.1970 - val_accuracy: 0.9499\n",
            "Epoch 44/70\n",
            "327/327 [==============================] - 1s 3ms/step - loss: 0.1782 - accuracy: 0.9547 - val_loss: 0.1975 - val_accuracy: 0.9499\n",
            "Epoch 45/70\n",
            "327/327 [==============================] - 1s 3ms/step - loss: 0.1780 - accuracy: 0.9547 - val_loss: 0.1970 - val_accuracy: 0.9499\n",
            "Epoch 46/70\n",
            "327/327 [==============================] - 1s 3ms/step - loss: 0.1784 - accuracy: 0.9547 - val_loss: 0.1972 - val_accuracy: 0.9499\n",
            "Epoch 47/70\n",
            "327/327 [==============================] - 1s 3ms/step - loss: 0.1784 - accuracy: 0.9547 - val_loss: 0.1977 - val_accuracy: 0.9499\n",
            "Epoch 48/70\n",
            "327/327 [==============================] - 1s 3ms/step - loss: 0.1785 - accuracy: 0.9547 - val_loss: 0.1976 - val_accuracy: 0.9499\n",
            "Epoch 49/70\n",
            "327/327 [==============================] - 1s 3ms/step - loss: 0.1784 - accuracy: 0.9547 - val_loss: 0.1982 - val_accuracy: 0.9499\n",
            "Epoch 50/70\n",
            "327/327 [==============================] - 1s 3ms/step - loss: 0.1782 - accuracy: 0.9547 - val_loss: 0.1967 - val_accuracy: 0.9499\n",
            "Epoch 51/70\n",
            "327/327 [==============================] - 1s 3ms/step - loss: 0.1784 - accuracy: 0.9547 - val_loss: 0.1974 - val_accuracy: 0.9499\n",
            "Epoch 52/70\n",
            "327/327 [==============================] - 1s 3ms/step - loss: 0.1785 - accuracy: 0.9547 - val_loss: 0.1986 - val_accuracy: 0.9499\n",
            "Epoch 53/70\n",
            "327/327 [==============================] - 1s 3ms/step - loss: 0.1784 - accuracy: 0.9547 - val_loss: 0.1969 - val_accuracy: 0.9499\n",
            "Epoch 54/70\n",
            "327/327 [==============================] - 1s 3ms/step - loss: 0.1784 - accuracy: 0.9547 - val_loss: 0.1969 - val_accuracy: 0.9499\n",
            "Epoch 55/70\n",
            "327/327 [==============================] - 1s 3ms/step - loss: 0.1783 - accuracy: 0.9547 - val_loss: 0.1970 - val_accuracy: 0.9499\n",
            "Epoch 56/70\n",
            "327/327 [==============================] - 1s 3ms/step - loss: 0.1783 - accuracy: 0.9547 - val_loss: 0.1974 - val_accuracy: 0.9499\n",
            "Epoch 57/70\n",
            "327/327 [==============================] - 1s 3ms/step - loss: 0.1784 - accuracy: 0.9547 - val_loss: 0.1979 - val_accuracy: 0.9499\n",
            "Epoch 58/70\n",
            "327/327 [==============================] - 1s 3ms/step - loss: 0.1782 - accuracy: 0.9547 - val_loss: 0.1974 - val_accuracy: 0.9499\n",
            "Epoch 59/70\n",
            "327/327 [==============================] - 1s 3ms/step - loss: 0.1784 - accuracy: 0.9547 - val_loss: 0.1976 - val_accuracy: 0.9499\n",
            "Epoch 60/70\n",
            "327/327 [==============================] - 1s 3ms/step - loss: 0.1784 - accuracy: 0.9547 - val_loss: 0.1976 - val_accuracy: 0.9499\n",
            "Epoch 61/70\n",
            "327/327 [==============================] - 1s 3ms/step - loss: 0.1783 - accuracy: 0.9547 - val_loss: 0.1968 - val_accuracy: 0.9499\n",
            "Epoch 62/70\n",
            "327/327 [==============================] - 1s 3ms/step - loss: 0.1783 - accuracy: 0.9547 - val_loss: 0.1975 - val_accuracy: 0.9499\n",
            "Epoch 63/70\n",
            "327/327 [==============================] - 1s 4ms/step - loss: 0.1783 - accuracy: 0.9547 - val_loss: 0.1970 - val_accuracy: 0.9499\n",
            "Epoch 64/70\n",
            "327/327 [==============================] - 1s 3ms/step - loss: 0.1783 - accuracy: 0.9547 - val_loss: 0.1968 - val_accuracy: 0.9499\n",
            "Epoch 65/70\n",
            "327/327 [==============================] - 1s 3ms/step - loss: 0.1784 - accuracy: 0.9547 - val_loss: 0.1976 - val_accuracy: 0.9499\n",
            "Epoch 66/70\n",
            "327/327 [==============================] - 1s 3ms/step - loss: 0.1784 - accuracy: 0.9547 - val_loss: 0.1968 - val_accuracy: 0.9499\n",
            "Epoch 67/70\n",
            "327/327 [==============================] - 1s 3ms/step - loss: 0.1783 - accuracy: 0.9547 - val_loss: 0.1975 - val_accuracy: 0.9499\n",
            "Epoch 68/70\n",
            "327/327 [==============================] - 1s 3ms/step - loss: 0.1783 - accuracy: 0.9547 - val_loss: 0.1972 - val_accuracy: 0.9499\n",
            "Epoch 69/70\n",
            "327/327 [==============================] - 1s 3ms/step - loss: 0.1785 - accuracy: 0.9547 - val_loss: 0.1970 - val_accuracy: 0.9499\n",
            "Epoch 70/70\n",
            "327/327 [==============================] - 1s 3ms/step - loss: 0.1784 - accuracy: 0.9547 - val_loss: 0.1974 - val_accuracy: 0.9499\n"
          ]
        },
        {
          "output_type": "execute_result",
          "data": {
            "text/plain": [
              "<keras.callbacks.History at 0x7fc2efdf0890>"
            ]
          },
          "metadata": {},
          "execution_count": 50
        }
      ]
    },
    {
      "cell_type": "code",
      "execution_count": 50,
      "metadata": {
        "id": "bF8jd2GowleY"
      },
      "outputs": [],
      "source": [
        ""
      ]
    },
    {
      "cell_type": "code",
      "execution_count": 50,
      "metadata": {
        "id": "t8McyVt8wleY"
      },
      "outputs": [],
      "source": [
        ""
      ]
    },
    {
      "cell_type": "code",
      "execution_count": null,
      "metadata": {
        "id": "ZHD6P1yUwleY"
      },
      "outputs": [],
      "source": [
        ""
      ]
    },
    {
      "cell_type": "code",
      "execution_count": null,
      "metadata": {
        "id": "xzlN8AHCwleY"
      },
      "outputs": [],
      "source": [
        ""
      ]
    },
    {
      "cell_type": "code",
      "execution_count": null,
      "metadata": {
        "id": "cF4GU0PSwleY"
      },
      "outputs": [],
      "source": [
        ""
      ]
    },
    {
      "cell_type": "code",
      "execution_count": null,
      "metadata": {
        "id": "4MW5ObiowleY"
      },
      "outputs": [],
      "source": [
        ""
      ]
    },
    {
      "cell_type": "code",
      "execution_count": null,
      "metadata": {
        "id": "HkpFAWJdwleY"
      },
      "outputs": [],
      "source": [
        ""
      ]
    },
    {
      "cell_type": "code",
      "execution_count": null,
      "metadata": {
        "id": "IrcAuzHiwleY"
      },
      "outputs": [],
      "source": [
        ""
      ]
    },
    {
      "cell_type": "code",
      "execution_count": null,
      "metadata": {
        "id": "u-l_HG5hwleY"
      },
      "outputs": [],
      "source": [
        ""
      ]
    }
  ],
  "metadata": {
    "colab": {
      "collapsed_sections": [],
      "name": "ML_Project (1).ipynb",
      "provenance": []
    },
    "kernelspec": {
      "display_name": "Python 3 (ipykernel)",
      "language": "python",
      "name": "python3"
    },
    "language_info": {
      "codemirror_mode": {
        "name": "ipython",
        "version": 3
      },
      "file_extension": ".py",
      "mimetype": "text/x-python",
      "name": "python",
      "nbconvert_exporter": "python",
      "pygments_lexer": "ipython3",
      "version": "3.9.7"
    },
    "toc": {
      "base_numbering": 1,
      "nav_menu": {},
      "number_sections": true,
      "sideBar": true,
      "skip_h1_title": false,
      "title_cell": "Table of Contents",
      "title_sidebar": "Contents",
      "toc_cell": false,
      "toc_position": {},
      "toc_section_display": true,
      "toc_window_display": false
    },
    "varInspector": {
      "cols": {
        "lenName": 16,
        "lenType": 16,
        "lenVar": 40
      },
      "kernels_config": {
        "python": {
          "delete_cmd_postfix": "",
          "delete_cmd_prefix": "del ",
          "library": "var_list.py",
          "varRefreshCmd": "print(var_dic_list())"
        },
        "r": {
          "delete_cmd_postfix": ") ",
          "delete_cmd_prefix": "rm(",
          "library": "var_list.r",
          "varRefreshCmd": "cat(var_dic_list()) "
        }
      },
      "types_to_exclude": [
        "module",
        "function",
        "builtin_function_or_method",
        "instance",
        "_Feature"
      ],
      "window_display": false
    },
    "accelerator": "GPU"
  },
  "nbformat": 4,
  "nbformat_minor": 0
}